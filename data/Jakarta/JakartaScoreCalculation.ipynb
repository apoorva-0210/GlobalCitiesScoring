{
 "cells": [
  {
   "cell_type": "code",
   "execution_count": null,
   "id": "f723f60c",
   "metadata": {},
   "outputs": [],
   "source": [
    "import pandas as pd\n",
    "import warnings\n",
    "warnings.filterwarnings('ignore')\n",
    "import requests\n",
    "import numpy as np\n",
    "import gc\n",
    "import ast"
   ]
  },
  {
   "cell_type": "code",
   "execution_count": null,
   "id": "1876e126",
   "metadata": {},
   "outputs": [],
   "source": [
    "df = pd.read_csv('JakartaMergedCSV.csv')"
   ]
  },
  {
   "cell_type": "code",
   "execution_count": null,
   "id": "e80a1ecf",
   "metadata": {},
   "outputs": [],
   "source": [
    "df_building = pd.read_csv('JakartaBuildingsFinal.csv')"
   ]
  },
  {
   "cell_type": "code",
   "execution_count": null,
   "id": "258b068b",
   "metadata": {},
   "outputs": [],
   "source": [
    "df_building.rename(columns={'name' : 'Building'}, inplace = True)"
   ]
  },
  {
   "cell_type": "code",
   "execution_count": null,
   "id": "413bbad3",
   "metadata": {},
   "outputs": [],
   "source": [
    "df_civic = pd.read_csv('CivicDistance.csv')\n",
    "df_fire = pd.read_csv('FireDistance.csv')\n",
    "df_government = pd.read_csv('GovernmentDistance.csv')\n",
    "df_hospital = pd.read_csv('HospitalDistance.csv')\n",
    "df_public = pd.read_csv('PublicDistance.csv')\n",
    "df_school = pd.read_csv('SchoolDistance.csv')\n",
    "df_sports = pd.read_csv('SportsDistance.csv')\n",
    "df_supermarket = pd.read_csv('SupermarketDistance.csv')\n",
    "df_toilet = pd.read_csv('ToiletDistance.csv')\n",
    "df_transport = pd.read_csv('TransportDistance.csv')"
   ]
  },
  {
   "cell_type": "code",
   "execution_count": null,
   "id": "60f8409f",
   "metadata": {},
   "outputs": [],
   "source": [
    "%%time\n",
    "# List of DataFrames\n",
    "dfs = [df_civic, df_fire, df_government, df_hospital, df_public,\n",
    "       df_school, df_sports, df_supermarket, df_toilet, df_transport]\n",
    "\n",
    "# Apply groupby and aggregation without loop overhead\n",
    "dfs = [df.groupby('InputID').agg(list) for df in dfs]\n"
   ]
  },
  {
   "cell_type": "code",
   "execution_count": null,
   "id": "0cbba8d7",
   "metadata": {},
   "outputs": [],
   "source": [
    "df_civic = df_civic.reset_index()\n",
    "df_fire = df_fire.reset_index()\n",
    "df_government = df_government.reset_index()\n",
    "df_hospital = df_hospital.reset_index()\n",
    "df_public = df_public.reset_index()\n",
    "df_school = df_school.reset_index()\n",
    "df_sports = df_sports.reset_index()\n",
    "df_supermarket = df_supermarket.reset_index()\n",
    "df_toilet = df_toilet.reset_index()\n",
    "df_transport = df_transport.reset_index()"
   ]
  },
  {
   "cell_type": "code",
   "execution_count": null,
   "id": "c9c895a6",
   "metadata": {},
   "outputs": [],
   "source": [
    "df_civic = df_civic.drop(columns=['index'])\n",
    "df_fire = df_fire.drop(columns=['index'])\n",
    "df_government = df_government.drop(columns=['index'])\n",
    "df_hospital = df_hospital.drop(columns=['index'])\n",
    "df_public = df_public.drop(columns=['index'])\n",
    "df_school = df_school.drop(columns=['index'])\n",
    "df_sports = df_sports.drop(columns=['index'])\n",
    "df_supermarket = df_supermarket.drop(columns=['index'])\n",
    "df_toilet = df_toilet.drop(columns=['index'])\n",
    "df_transport = df_transport.drop(columns=['index'])"
   ]
  },
  {
   "cell_type": "code",
   "execution_count": null,
   "id": "9fe84279",
   "metadata": {},
   "outputs": [],
   "source": [
    "%%time\n",
    "# List of dataframes\n",
    "dfs = [df_civic, df_fire, df_government, df_hospital, df_public, \n",
    "       df_school, df_sports, df_supermarket, df_toilet, df_transport]\n",
    "\n",
    "# Drop the column from each dataframe\n",
    "for df in dfs:\n",
    "    df.drop(columns=['TargetID'], inplace=True, errors='ignore')  # 'errors=ignore' prevents errors if column not found\n"
   ]
  },
  {
   "cell_type": "code",
   "execution_count": null,
   "id": "47070655",
   "metadata": {},
   "outputs": [],
   "source": [
    "df_civic\n",
    "df_fire\n",
    "df_government\n",
    "df_hospital\n",
    "df_public\n",
    "df_school\n",
    "df_sports\n",
    "df_supermarket\n",
    "df_toilet\n",
    "df_transport"
   ]
  },
  {
   "cell_type": "code",
   "execution_count": null,
   "id": "7dcf9c20",
   "metadata": {},
   "outputs": [],
   "source": [
    "%%time\n",
    "df_civic.rename(columns={'InputID':'Building', 'Distance':'Civic'}, inplace = True)\n",
    "df_fire.rename(columns={'InputID':'Building', 'Distance':'Fire'}, inplace = True)\n",
    "df_government.rename(columns={'InputID':'Building', 'Distance':'Government'}, inplace = True)\n",
    "df_hospital.rename(columns={'InputID':'Building', 'Distance':'Hospital'}, inplace = True)\n",
    "df_public.rename(columns={'InputID':'Building', 'Distance':'Public'}, inplace = True)\n",
    "df_school.rename(columns={'InputID':'Building', 'Distance':'School'}, inplace = True)\n",
    "df_sports.rename(columns={'InputID':'Building', 'Distance':'Sports'}, inplace = True)\n",
    "df_supermarket.rename(columns={'InputID':'Building', 'Distance':'Supermarket'}, inplace = True)\n",
    "df_toilet.rename(columns={'InputID':'Building', 'Distance':'Toilet'}, inplace = True)\n",
    "df_transport.rename(columns={'InputID':'Building', 'Distance':'Transport'}, inplace = True)"
   ]
  },
  {
   "cell_type": "code",
   "execution_count": null,
   "id": "f0fd65f8",
   "metadata": {},
   "outputs": [],
   "source": [
    "df_transport"
   ]
  },
  {
   "cell_type": "code",
   "execution_count": null,
   "id": "57a51396",
   "metadata": {},
   "outputs": [],
   "source": [
    "df = pd.DataFrame()"
   ]
  },
  {
   "cell_type": "code",
   "execution_count": null,
   "id": "4410985f",
   "metadata": {},
   "outputs": [],
   "source": [
    "'''def optimize_df(df):\n",
    "    for col in df.select_dtypes(include=['float64']).columns:\n",
    "        df[col] = pd.to_numeric(df[col], downcast='float')\n",
    "    for col in df.select_dtypes(include=['int64']).columns:\n",
    "        df[col] = pd.to_numeric(df[col], downcast='integer')\n",
    "    for col in df.select_dtypes(include=['object']).columns:\n",
    "        num_unique_values = len(df[col].unique())\n",
    "        num_total_values = len(df[col])\n",
    "        if num_unique_values / num_total_values < 0.5:\n",
    "            df[col] = df[col].astype('category')\n",
    "    return df\n",
    "\n",
    "df_building = optimize_df(df_building)\n",
    "df_civic = optimize_df(df_civic)\n",
    "df_fire = optimize_df(df_fire)\n",
    "df_government = optimize_df(df_government)\n",
    "df_hospital = optimize_df(df_hospital)\n",
    "df_public = optimize_df(df_public)\n",
    "df_school = optimize_df(df_school)\n",
    "df_sports = optimize_df(df_sports)\n",
    "df_supermarket = optimize_df(df_supermarket)\n",
    "df_toilet = optimize_df(df_toilet)\n",
    "df_transport = optimize_df(df_transport)\n",
    "'''"
   ]
  },
  {
   "cell_type": "code",
   "execution_count": null,
   "id": "dc493bc6",
   "metadata": {},
   "outputs": [],
   "source": [
    "import pandas as pd\n",
    "import dask.dataframe as dd\n",
    "\n",
    "chunk_size = 100000  # Experiment with different sizes\n",
    "df_list = []\n",
    "\n",
    "for chunk in pd.read_csv('df_building.csv', chunksize=chunk_size):\n",
    "    df_list.append(dd.from_pandas(chunk, npartitions=-1))\n",
    "\n",
    "df_building = dd.concat(df_list)\n",
    "del df_list\n",
    "gc.collect()\n"
   ]
  },
  {
   "cell_type": "code",
   "execution_count": null,
   "id": "4fb04499",
   "metadata": {},
   "outputs": [],
   "source": [
    "#df = pd.read_csv('JakartaMergedCSV.csv')"
   ]
  },
  {
   "cell_type": "code",
   "execution_count": null,
   "id": "e212fd0d",
   "metadata": {},
   "outputs": [],
   "source": [
    "'''del df_building, df_civic, df_fire, df_government, df_hospital, df_public\n",
    "del df_school, df_sports, df_supermarket, df_toilet, df_transport\n",
    "gc.collect()  # Free up memory\n",
    "'''"
   ]
  },
  {
   "cell_type": "code",
   "execution_count": null,
   "id": "899d1670",
   "metadata": {
    "scrolled": true
   },
   "outputs": [],
   "source": [
    "df"
   ]
  },
  {
   "cell_type": "code",
   "execution_count": null,
   "id": "75b9b3ce",
   "metadata": {},
   "outputs": [],
   "source": [
    "df.columns"
   ]
  },
  {
   "cell_type": "code",
   "execution_count": null,
   "id": "d947a736",
   "metadata": {},
   "outputs": [],
   "source": [
    "%%time\n",
    "columns = ['Civic', 'Fire', 'Government', 'Hospital', 'Public', \n",
    "           'School', 'Sports', 'Supermarket', 'Toilet', 'Transport']\n",
    "for col in columns:\n",
    "    df[col] = df[col].apply(ast.literal_eval)\n"
   ]
  },
  {
   "cell_type": "code",
   "execution_count": null,
   "id": "feeb558b",
   "metadata": {},
   "outputs": [],
   "source": [
    "df[['Civic', 'Fire', 'Government', 'Hospital', 'Public', 'School', 'Sports', 'Supermarket', 'Toilet', 'Transport']] = df[['Civic', 'Fire', 'Government', 'Hospital', 'Public', 'School', 'Sports', 'Supermarket', 'Toilet', 'Transport']].applymap(lambda x: np.divide(x, 10000) if isinstance(x, list) else x)"
   ]
  },
  {
   "cell_type": "code",
   "execution_count": null,
   "id": "845bb540",
   "metadata": {},
   "outputs": [],
   "source": [
    "#df[['Civic', 'Government']] = df[['Civic', 'Government']].applymap(lambda x: np.divide(x, 10000) if isinstance(x, list) else x)"
   ]
  },
  {
   "cell_type": "code",
   "execution_count": null,
   "id": "9553b920-8d3d-410c-bea3-80cca585d449",
   "metadata": {},
   "outputs": [],
   "source": [
    "distance_map = {\n",
    "    'Civic': 1.5,\n",
    "    'Fire': 1.0,\n",
    "    'Government': 10.0,\n",
    "    'Hospital': 10.0,\n",
    "    'Public': 2.0,\n",
    "    'School': 1.0,\n",
    "    'Sports': 1.5,\n",
    "    'Supermarket': 1.0,\n",
    "    'Toilet': 0.1,\n",
    "    'Transport': 2.0,\n",
    "}\n",
    "for facility, max_dist in distance_map.items():\n",
    "    try:\n",
    "        df[f'{facility}_nearby'] = df[facility].apply(lambda lst: [d for d in lst if d <= max_dist])\n",
    "    except:\n",
    "        pass\n",
    "\n",
    "\n",
    "for facility, max_dist in distance_map.items():\n",
    "    try:\n",
    "        df[f'{facility}_nearby'] = df[f'{facility}_nearby'].apply(lambda lst: [round(max_dist - d, 2) for d in lst])\n",
    "    except:\n",
    "        pass\n",
    "\n",
    "\n",
    "for facility in distance_map:\n",
    "    try:\n",
    "        df[f'{facility}_Score'] = df[f'{facility}_nearby'].apply(sum)\n",
    "    except:\n",
    "        pass\n",
    "\n",
    "from sklearn.preprocessing import MinMaxScaler\n",
    "\n",
    "# Select score columns\n",
    "score_cols = [col for col in df.columns if col.endswith('_Score')]\n",
    "\n",
    "# Initialize scaler with feature range 0-10\n",
    "scaler = MinMaxScaler(feature_range=(0, 10))\n",
    "\n",
    "# Fit and transform, then round to 2 decimals\n",
    "df[score_cols] = pd.DataFrame(\n",
    "    scaler.fit_transform(df[score_cols]),\n",
    "    columns=score_cols,\n",
    "    index=df.index\n",
    ").round(2)\n"
   ]
  },
  {
   "cell_type": "code",
   "execution_count": null,
   "id": "46436063-f959-4de8-af5d-f051f0ab1636",
   "metadata": {},
   "outputs": [],
   "source": [
    "df.to_csv('JakartaScoreRAW1.csv', index = False)"
   ]
  },
  {
   "cell_type": "code",
   "execution_count": null,
   "id": "b103b06f-b92e-4101-aafd-52674255ad09",
   "metadata": {},
   "outputs": [],
   "source": []
  },
  {
   "cell_type": "code",
   "execution_count": null,
   "id": "392be5ad-f250-4e97-8888-7d81be7d6e02",
   "metadata": {},
   "outputs": [],
   "source": []
  },
  {
   "cell_type": "code",
   "execution_count": null,
   "id": "1bf29f96-517d-4425-a52e-5ffddc4bea38",
   "metadata": {},
   "outputs": [],
   "source": []
  },
  {
   "cell_type": "code",
   "execution_count": null,
   "id": "a43d34a7-c020-4497-ac4c-ef3539b5f89c",
   "metadata": {},
   "outputs": [],
   "source": []
  },
  {
   "cell_type": "code",
   "execution_count": null,
   "id": "3dd08a69-6ee8-4404-ad00-2d3108e4227f",
   "metadata": {},
   "outputs": [],
   "source": []
  },
  {
   "cell_type": "code",
   "execution_count": null,
   "id": "fac8ce8d-6c69-4da9-b83b-13ba39e38372",
   "metadata": {},
   "outputs": [],
   "source": []
  },
  {
   "cell_type": "code",
   "execution_count": null,
   "id": "10ba46a8-082b-4728-932d-0b921391e720",
   "metadata": {},
   "outputs": [],
   "source": []
  },
  {
   "cell_type": "code",
   "execution_count": null,
   "id": "7d55a372-20d1-4a31-b6c9-199263f55c3d",
   "metadata": {},
   "outputs": [],
   "source": []
  },
  {
   "cell_type": "code",
   "execution_count": null,
   "id": "8a2f99ba-a200-441a-838c-f631e31b5305",
   "metadata": {},
   "outputs": [],
   "source": []
  },
  {
   "cell_type": "code",
   "execution_count": null,
   "id": "a3ea224f-9ece-499d-99cc-6d2a4d526a1b",
   "metadata": {},
   "outputs": [],
   "source": []
  },
  {
   "cell_type": "code",
   "execution_count": null,
   "id": "4f8a473c-94c7-4847-9d0e-4a1a12e7b5ef",
   "metadata": {},
   "outputs": [],
   "source": []
  },
  {
   "cell_type": "code",
   "execution_count": null,
   "id": "3250d7ed-bf35-469b-b852-49358c411b3d",
   "metadata": {},
   "outputs": [],
   "source": []
  },
  {
   "cell_type": "code",
   "execution_count": null,
   "id": "aae7f4c1-6127-4bd6-bc78-5614f4e73e2d",
   "metadata": {},
   "outputs": [],
   "source": []
  },
  {
   "cell_type": "code",
   "execution_count": null,
   "id": "8a3a52a3-7361-4153-a2bf-74a06409437c",
   "metadata": {},
   "outputs": [],
   "source": []
  },
  {
   "cell_type": "code",
   "execution_count": null,
   "id": "19dc7a48-72a1-4413-b750-60bfcb32f92f",
   "metadata": {},
   "outputs": [],
   "source": []
  },
  {
   "cell_type": "code",
   "execution_count": null,
   "id": "98d4e191-12c3-41c5-99d5-caded1afa4a1",
   "metadata": {},
   "outputs": [],
   "source": []
  },
  {
   "cell_type": "code",
   "execution_count": null,
   "id": "78be5220-add0-4c81-8887-c9c144d364ec",
   "metadata": {},
   "outputs": [],
   "source": []
  },
  {
   "cell_type": "code",
   "execution_count": null,
   "id": "89b748e6-3be9-40de-b637-5400ef1e3314",
   "metadata": {},
   "outputs": [],
   "source": []
  },
  {
   "cell_type": "code",
   "execution_count": null,
   "id": "8c43bef9-66b2-40fe-a546-dcc2c18a5003",
   "metadata": {},
   "outputs": [],
   "source": []
  },
  {
   "cell_type": "code",
   "execution_count": null,
   "id": "e3a1e85f-837e-4ac4-97eb-fd366f772a75",
   "metadata": {},
   "outputs": [],
   "source": []
  },
  {
   "cell_type": "code",
   "execution_count": null,
   "id": "cdef2ac3-bfc4-4aa3-a0c1-88f827e0700d",
   "metadata": {},
   "outputs": [],
   "source": []
  },
  {
   "cell_type": "code",
   "execution_count": null,
   "id": "8a455285-7ca3-46b7-b350-73c45c8932bb",
   "metadata": {},
   "outputs": [],
   "source": []
  },
  {
   "cell_type": "code",
   "execution_count": null,
   "id": "e6b4b54a-8eba-4d17-805e-d05283ab32f2",
   "metadata": {},
   "outputs": [],
   "source": []
  },
  {
   "cell_type": "code",
   "execution_count": null,
   "id": "fd6df2ae-b8b2-4114-a36c-4e2807ca6bb3",
   "metadata": {},
   "outputs": [],
   "source": []
  },
  {
   "cell_type": "code",
   "execution_count": null,
   "id": "6dcfcac7-9e50-468c-9f23-2ee739bb3f46",
   "metadata": {},
   "outputs": [],
   "source": []
  },
  {
   "cell_type": "code",
   "execution_count": null,
   "id": "0680bb4a-17f3-4dbd-a573-b7a9798a8655",
   "metadata": {},
   "outputs": [],
   "source": []
  },
  {
   "cell_type": "code",
   "execution_count": null,
   "id": "c3e19b2f-81d9-408e-b8e4-c7213279a75a",
   "metadata": {},
   "outputs": [],
   "source": []
  },
  {
   "cell_type": "code",
   "execution_count": null,
   "id": "e6fa71e7-deb5-4f46-9409-961cd2e1dd02",
   "metadata": {},
   "outputs": [],
   "source": []
  },
  {
   "cell_type": "code",
   "execution_count": null,
   "id": "f9eba007-ed2e-4346-809d-165079724df1",
   "metadata": {},
   "outputs": [],
   "source": []
  },
  {
   "cell_type": "code",
   "execution_count": null,
   "id": "6d31ff62-8e8e-41f2-be89-8562028ff866",
   "metadata": {},
   "outputs": [],
   "source": []
  },
  {
   "cell_type": "code",
   "execution_count": null,
   "id": "bcd80e8c-d6bc-4dfb-a2ac-99d1391b6016",
   "metadata": {},
   "outputs": [],
   "source": []
  },
  {
   "cell_type": "code",
   "execution_count": null,
   "id": "65eb3703-e64c-4e2c-afca-5157ed960aa1",
   "metadata": {},
   "outputs": [],
   "source": []
  },
  {
   "cell_type": "code",
   "execution_count": null,
   "id": "ef54e6e8-0958-4701-b37f-63b831a22cc8",
   "metadata": {},
   "outputs": [],
   "source": []
  },
  {
   "cell_type": "code",
   "execution_count": null,
   "id": "2c4336f5-ce4b-4f21-a04d-a77508faf277",
   "metadata": {},
   "outputs": [],
   "source": []
  },
  {
   "cell_type": "code",
   "execution_count": null,
   "id": "0931a527-ce32-4e45-a4b6-a01474bb1775",
   "metadata": {},
   "outputs": [],
   "source": []
  },
  {
   "cell_type": "code",
   "execution_count": null,
   "id": "b348122f",
   "metadata": {},
   "outputs": [],
   "source": [
    "%%time\n",
    "columns = ['Civic', 'Fire', 'Government', 'Hospital', 'Public', \n",
    "           'School', 'Sports', 'Supermarket', 'Toilet', 'Transport']\n",
    "\n",
    "for col in columns:\n",
    "    df[f'{col}_1km'] = None\n",
    "    df[f'{col}_5km'] = None\n",
    "    df[f'{col}_10km'] = None\n"
   ]
  },
  {
   "cell_type": "code",
   "execution_count": null,
   "id": "3ffc3e5f",
   "metadata": {},
   "outputs": [],
   "source": [
    "df.columns[41]"
   ]
  },
  {
   "cell_type": "code",
   "execution_count": null,
   "id": "1118cb3e",
   "metadata": {},
   "outputs": [],
   "source": [
    "df['Civic'][0][1]"
   ]
  },
  {
   "cell_type": "code",
   "execution_count": null,
   "id": "7063afd6",
   "metadata": {},
   "outputs": [],
   "source": [
    "df.info()"
   ]
  },
  {
   "cell_type": "code",
   "execution_count": null,
   "id": "6d23def1",
   "metadata": {},
   "outputs": [],
   "source": [
    "%%time\n",
    "# Define columns\n",
    "columns = ['Civic', 'Fire', 'Government', 'Hospital', 'Public', \n",
    "           'School', 'Sports', 'Supermarket', 'Toilet', 'Transport']\n",
    "\n",
    "# Create filtered columns using vectorized operations\n",
    "for col in columns:\n",
    "    df[f'{col}_1km'] = df[col].map(lambda x: [n for n in x if n <= 1])\n",
    "    df[f'{col}_5km'] = df[col].map(lambda x: [n for n in x if n <= 5])\n",
    "    df[f'{col}_10km'] = df[col].map(lambda x: [n for n in x if n <= 10])\n"
   ]
  },
  {
   "cell_type": "code",
   "execution_count": null,
   "id": "1fce5f60",
   "metadata": {},
   "outputs": [],
   "source": [
    "df"
   ]
  },
  {
   "cell_type": "code",
   "execution_count": null,
   "id": "ae8260be",
   "metadata": {},
   "outputs": [],
   "source": [
    "%%time\n",
    "# Define columns\n",
    "columns = ['Civic', 'Fire', 'Government', 'Hospital', 'Public', \n",
    "           'School', 'Sports', 'Supermarket', 'Toilet', 'Transport']\n",
    "\n",
    "# Define a vectorized function using numpy\n",
    "def transform_list_np(arr, val):\n",
    "    return np.round(val - np.array(arr), 2).tolist()  # Use NumPy for fast subtraction and rounding\n",
    "\n",
    "# Vectorized operation with NumPy for speed\n",
    "for col in columns:\n",
    "    df[f'{col}_1km'] = df[f'{col}_1km'].apply(lambda x: transform_list_np(x, 1))\n",
    "    df[f'{col}_5km'] = df[f'{col}_5km'].apply(lambda x: transform_list_np(x, 5))\n",
    "    df[f'{col}_10km'] = df[f'{col}_10km'].apply(lambda x: transform_list_np(x, 10))\n"
   ]
  },
  {
   "cell_type": "code",
   "execution_count": null,
   "id": "ffd6db3c",
   "metadata": {},
   "outputs": [],
   "source": [
    "%%time\n",
    "# Define columns\n",
    "columns = ['Civic', 'Fire', 'Government', 'Hospital', 'Public', \n",
    "           'School', 'Sports', 'Supermarket', 'Toilet', 'Transport']\n",
    "\n",
    "# Initialize score columns\n",
    "for col in columns:\n",
    "    df[f'{col}_1km_Score'] = None\n",
    "    df[f'{col}_5km_Score'] = None\n",
    "    df[f'{col}_10km_Score'] = None\n",
    "\n",
    "# Define a function to calculate scores\n",
    "def calculate_scores(row, columns):\n",
    "    for col in columns:\n",
    "        row[f'{col}_1km_Score'] = sum(row[f'{col}_1km'])\n",
    "        row[f'{col}_5km_Score'] = sum(row[f'{col}_5km'])\n",
    "        row[f'{col}_10km_Score'] = sum(row[f'{col}_10km'])\n",
    "    return row\n",
    "\n",
    "# Apply the function across the dataframe\n",
    "df = df.apply(lambda row: calculate_scores(row, columns), axis=1)\n"
   ]
  },
  {
   "cell_type": "code",
   "execution_count": null,
   "id": "9b803556",
   "metadata": {},
   "outputs": [],
   "source": [
    "df"
   ]
  },
  {
   "cell_type": "code",
   "execution_count": null,
   "id": "3f330f80",
   "metadata": {},
   "outputs": [],
   "source": [
    "df.columns[71]"
   ]
  },
  {
   "cell_type": "code",
   "execution_count": null,
   "id": "97676b4e",
   "metadata": {},
   "outputs": [],
   "source": [
    "# Vectorized scaling operation\n",
    "df.iloc[:, 71:101] = df.iloc[:, 71:101].apply(lambda col: (col - col.min()) / (col.max() - col.min()) * 10, axis=0)\n"
   ]
  },
  {
   "cell_type": "code",
   "execution_count": null,
   "id": "fd43663f",
   "metadata": {},
   "outputs": [],
   "source": [
    "# Optimized approach\n",
    "try:\n",
    "    df.iloc[:, 71:101] = df.iloc[:, 71:101].astype(float).round(2)\n",
    "except Exception as e:\n",
    "    print('Error:', e)\n"
   ]
  },
  {
   "cell_type": "code",
   "execution_count": null,
   "id": "0f3fcc71",
   "metadata": {},
   "outputs": [],
   "source": [
    "df"
   ]
  },
  {
   "cell_type": "code",
   "execution_count": null,
   "id": "961b8bec",
   "metadata": {},
   "outputs": [],
   "source": [
    "df.to_csv('JakartaScoreRAW.csv', index = False)"
   ]
  },
  {
   "cell_type": "code",
   "execution_count": null,
   "id": "40692d5b",
   "metadata": {},
   "outputs": [],
   "source": []
  }
 ],
 "metadata": {
  "kernelspec": {
   "display_name": "Python [conda env:base] *",
   "language": "python",
   "name": "conda-base-py"
  },
  "language_info": {
   "codemirror_mode": {
    "name": "ipython",
    "version": 3
   },
   "file_extension": ".py",
   "mimetype": "text/x-python",
   "name": "python",
   "nbconvert_exporter": "python",
   "pygments_lexer": "ipython3",
   "version": "3.9.21"
  }
 },
 "nbformat": 4,
 "nbformat_minor": 5
}
