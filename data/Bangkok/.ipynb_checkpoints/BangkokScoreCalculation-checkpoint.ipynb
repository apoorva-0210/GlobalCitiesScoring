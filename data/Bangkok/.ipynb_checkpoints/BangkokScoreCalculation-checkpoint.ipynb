{
 "cells": [
  {
   "cell_type": "code",
   "execution_count": 1,
   "id": "f723f60c",
   "metadata": {},
   "outputs": [],
   "source": [
    "import pandas as pd\n",
    "import warnings\n",
    "warnings.filterwarnings('ignore')\n",
    "from geopy.geocoders import Nominatim\n",
    "from math import radians, cos, sin, asin, sqrt\n",
    "from numpy import cos, sin, arcsin, sqrt\n",
    "from ast import literal_eval\n",
    "from tqdm import tqdm\n",
    "import requests\n",
    "import json\n",
    "import networkx as nx\n",
    "import osmnx as ox\n",
    "import requests\n",
    "from geopy import Point\n",
    "from geopy.distance import geodesic\n",
    "import numpy as np"
   ]
  },
  {
   "cell_type": "code",
   "execution_count": 2,
   "id": "e80a1ecf",
   "metadata": {},
   "outputs": [],
   "source": [
    "df_building = pd.read_csv('BangkokBuildingsFinal.csv')"
   ]
  },
  {
   "cell_type": "code",
   "execution_count": 3,
   "id": "258b068b",
   "metadata": {},
   "outputs": [],
   "source": [
    "df_building.rename(columns={'name' : 'Building'}, inplace = True)"
   ]
  },
  {
   "cell_type": "code",
   "execution_count": 4,
   "id": "413bbad3",
   "metadata": {},
   "outputs": [],
   "source": [
    "df_civic = pd.read_csv('CivicDistance.csv')\n",
    "df_government = pd.read_csv('GovernmentDistance.csv')\n",
    "df_public = pd.read_csv('PublicDistance.csv')\n",
    "df_school = pd.read_csv('SchoolDistance.csv')\n",
    "df_sports = pd.read_csv('SportsDistance.csv')\n",
    "df_transport = pd.read_csv('TransportDistance.csv')"
   ]
  },
  {
   "cell_type": "code",
   "execution_count": 5,
   "id": "60f8409f",
   "metadata": {},
   "outputs": [],
   "source": [
    "df_civic = df_civic.groupby('InputID').agg(lambda x: list(x))\n",
    "df_government = df_government.groupby('InputID').agg(lambda x: list(x))\n",
    "df_public = df_public.groupby('InputID').agg(lambda x: list(x))\n",
    "df_school = df_school.groupby('InputID').agg(lambda x: list(x))\n",
    "df_sports = df_sports.groupby('InputID').agg(lambda x: list(x))\n",
    "df_transport = df_transport.groupby('InputID').agg(lambda x: list(x))"
   ]
  },
  {
   "cell_type": "code",
   "execution_count": 6,
   "id": "0cbba8d7",
   "metadata": {},
   "outputs": [],
   "source": [
    "df_civic = df_civic.reset_index()\n",
    "df_government = df_government.reset_index()\n",
    "df_public = df_public.reset_index()\n",
    "df_school = df_school.reset_index()\n",
    "df_sports = df_sports.reset_index()\n",
    "df_transport = df_transport.reset_index()"
   ]
  },
  {
   "cell_type": "code",
   "execution_count": 7,
   "id": "9fe84279",
   "metadata": {},
   "outputs": [],
   "source": [
    "df_civic.drop(columns=['TargetID'], inplace = True)\n",
    "df_government.drop(columns=['TargetID'], inplace = True)\n",
    "df_public.drop(columns=['TargetID'], inplace = True)\n",
    "df_school.drop(columns=['TargetID'], inplace = True)\n",
    "df_sports.drop(columns=['TargetID'], inplace = True)\n",
    "df_transport.drop(columns=['TargetID'], inplace = True)"
   ]
  },
  {
   "cell_type": "code",
   "execution_count": null,
   "id": "47070655",
   "metadata": {},
   "outputs": [],
   "source": [
    "df_civic\n",
    "df_fire\n",
    "df_government\n",
    "df_hospital\n",
    "df_public\n",
    "df_school\n",
    "df_sports\n",
    "df_supermarket\n",
    "df_toilet\n",
    "df_transport"
   ]
  },
  {
   "cell_type": "code",
   "execution_count": 8,
   "id": "7dcf9c20",
   "metadata": {},
   "outputs": [],
   "source": [
    "df_civic.rename(columns={'InputID':'Building', 'Distance':'Civic'}, inplace = True)\n",
    "df_government.rename(columns={'InputID':'Building', 'Distance':'Government'}, inplace = True)\n",
    "df_public.rename(columns={'InputID':'Building', 'Distance':'Public'}, inplace = True)\n",
    "df_school.rename(columns={'InputID':'Building', 'Distance':'School'}, inplace = True)\n",
    "df_sports.rename(columns={'InputID':'Building', 'Distance':'Sports'}, inplace = True)\n",
    "df_transport.rename(columns={'InputID':'Building', 'Distance':'Transport'}, inplace = True)"
   ]
  },
  {
   "cell_type": "code",
   "execution_count": 9,
   "id": "ca157b7b",
   "metadata": {},
   "outputs": [],
   "source": [
    "df = df_building.merge(df_civic, on='Building', how = 'inner')\n",
    "df = df.merge(df_government, on='Building', how = 'inner')\n",
    "df = df.merge(df_public, on='Building', how = 'inner')\n",
    "df = df.merge(df_school, on='Building', how = 'inner')\n",
    "df = df.merge(df_sports, on='Building', how = 'inner')\n",
    "df = df.merge(df_transport, on='Building', how = 'inner')"
   ]
  },
  {
   "cell_type": "code",
   "execution_count": null,
   "id": "899d1670",
   "metadata": {},
   "outputs": [],
   "source": [
    "df"
   ]
  },
  {
   "cell_type": "code",
   "execution_count": 10,
   "id": "75b9b3ce",
   "metadata": {},
   "outputs": [
    {
     "data": {
      "text/plain": [
       "Index(['Building', 'name_en', 'building', 'building_l', 'building_m',\n",
       "       'addr_full', 'addr_house', 'addr_stree', 'addr_city', 'office',\n",
       "       'source', 'name_th', 'osm_id', 'osm_type', 'lon', 'lat', 'source_2',\n",
       "       'id', 'name_2', 'Civic', 'Government', 'Public', 'School', 'Sports',\n",
       "       'Transport'],\n",
       "      dtype='object')"
      ]
     },
     "execution_count": 10,
     "metadata": {},
     "output_type": "execute_result"
    }
   ],
   "source": [
    "df.columns"
   ]
  },
  {
   "cell_type": "code",
   "execution_count": 11,
   "id": "feeb558b",
   "metadata": {},
   "outputs": [],
   "source": [
    "df[['Civic', 'Government', 'Public', 'School', 'Sports', 'Transport']] = df[['Civic', 'Government', 'Public', 'School', 'Sports', 'Transport']].applymap(lambda x: np.divide(x, 10000) if isinstance(x, list) else x)"
   ]
  },
  {
   "cell_type": "code",
   "execution_count": 12,
   "id": "845bb540",
   "metadata": {},
   "outputs": [],
   "source": [
    "#df[['Civic', 'Government']] = df[['Civic', 'Government']].applymap(lambda x: np.divide(x, 10000) if isinstance(x, list) else x)"
   ]
  },
  {
   "cell_type": "code",
   "execution_count": 13,
   "id": "a6cc0f57-c6b0-4692-a8f2-2460250c88ba",
   "metadata": {},
   "outputs": [],
   "source": [
    "distance_map = {\n",
    "    'Civic': 1.5,\n",
    "    'Fire': 1.0,\n",
    "    'Government': 10.0,\n",
    "    'Hospital': 10.0,\n",
    "    'Public': 2.0,\n",
    "    'School': 1.0,\n",
    "    'Sports': 1.5,\n",
    "    'Supermarket': 1.0,\n",
    "    'Toilet': 0.1,\n",
    "    'Transport': 2.0,\n",
    "}\n"
   ]
  },
  {
   "cell_type": "code",
   "execution_count": 15,
   "id": "72c50a5b-9825-41ce-a20b-4253e1750170",
   "metadata": {},
   "outputs": [
    {
     "name": "stdout",
     "output_type": "stream",
     "text": [
      "CPU times: total: 406 ms\n",
      "Wall time: 403 ms\n"
     ]
    }
   ],
   "source": [
    "%%time\n",
    "for facility, max_dist in distance_map.items():\n",
    "    try:\n",
    "        df[f'{facility}_nearby'] = df[facility].apply(lambda lst: [d for d in lst if d <= max_dist])\n",
    "    except:\n",
    "        pass"
   ]
  },
  {
   "cell_type": "code",
   "execution_count": 18,
   "id": "0ed52712-0fb6-4319-a54f-5f5528a0968a",
   "metadata": {},
   "outputs": [
    {
     "name": "stdout",
     "output_type": "stream",
     "text": [
      "CPU times: total: 2.97 s\n",
      "Wall time: 3.07 s\n"
     ]
    }
   ],
   "source": [
    "%%time\n",
    "for facility, max_dist in distance_map.items():\n",
    "    try:\n",
    "        df[f'{facility}_nearby'] = df[f'{facility}_nearby'].apply(lambda lst: [round(max_dist - d, 2) for d in lst])\n",
    "    except:\n",
    "        pass\n"
   ]
  },
  {
   "cell_type": "code",
   "execution_count": 20,
   "id": "1c12fb93-3675-49e4-80bd-c6814a196b98",
   "metadata": {},
   "outputs": [
    {
     "name": "stdout",
     "output_type": "stream",
     "text": [
      "CPU times: total: 93.8 ms\n",
      "Wall time: 84.9 ms\n"
     ]
    }
   ],
   "source": [
    "%%time\n",
    "for facility in distance_map:\n",
    "    try:\n",
    "        df[f'{facility}_Score'] = df[f'{facility}_nearby'].apply(sum)\n",
    "    except:\n",
    "        pass"
   ]
  },
  {
   "cell_type": "code",
   "execution_count": 21,
   "id": "516d1a4e-f472-4847-a17c-a8354c6c1fc7",
   "metadata": {},
   "outputs": [
    {
     "data": {
      "text/html": [
       "<div>\n",
       "<style scoped>\n",
       "    .dataframe tbody tr th:only-of-type {\n",
       "        vertical-align: middle;\n",
       "    }\n",
       "\n",
       "    .dataframe tbody tr th {\n",
       "        vertical-align: top;\n",
       "    }\n",
       "\n",
       "    .dataframe thead th {\n",
       "        text-align: right;\n",
       "    }\n",
       "</style>\n",
       "<table border=\"1\" class=\"dataframe\">\n",
       "  <thead>\n",
       "    <tr style=\"text-align: right;\">\n",
       "      <th></th>\n",
       "      <th>Building</th>\n",
       "      <th>name_en</th>\n",
       "      <th>building</th>\n",
       "      <th>building_l</th>\n",
       "      <th>building_m</th>\n",
       "      <th>addr_full</th>\n",
       "      <th>addr_house</th>\n",
       "      <th>addr_stree</th>\n",
       "      <th>addr_city</th>\n",
       "      <th>office</th>\n",
       "      <th>...</th>\n",
       "      <th>Public_nearby</th>\n",
       "      <th>School_nearby</th>\n",
       "      <th>Sports_nearby</th>\n",
       "      <th>Transport_nearby</th>\n",
       "      <th>Civic_Score</th>\n",
       "      <th>Government_Score</th>\n",
       "      <th>Public_Score</th>\n",
       "      <th>School_Score</th>\n",
       "      <th>Sports_Score</th>\n",
       "      <th>Transport_Score</th>\n",
       "    </tr>\n",
       "  </thead>\n",
       "  <tbody>\n",
       "    <tr>\n",
       "      <th>0</th>\n",
       "      <td>BangkokBuilding0</td>\n",
       "      <td>NaN</td>\n",
       "      <td>yes</td>\n",
       "      <td>NaN</td>\n",
       "      <td>NaN</td>\n",
       "      <td>NaN</td>\n",
       "      <td>NaN</td>\n",
       "      <td>NaN</td>\n",
       "      <td>NaN</td>\n",
       "      <td>NaN</td>\n",
       "      <td>...</td>\n",
       "      <td>[1.73, 1.48, 1.73, 1.48, 1.49]</td>\n",
       "      <td>[0.77, 0.79, 0.78, 0.78, 0.77]</td>\n",
       "      <td>[0.6, 0.6, 0.6, 0.51, 0.59]</td>\n",
       "      <td>[1.67, 1.58, 1.69, 1.71, 1.9]</td>\n",
       "      <td>2.74</td>\n",
       "      <td>37.24</td>\n",
       "      <td>7.91</td>\n",
       "      <td>3.89</td>\n",
       "      <td>2.90</td>\n",
       "      <td>8.55</td>\n",
       "    </tr>\n",
       "    <tr>\n",
       "      <th>1</th>\n",
       "      <td>BangkokBuilding1</td>\n",
       "      <td>NaN</td>\n",
       "      <td>yes</td>\n",
       "      <td>NaN</td>\n",
       "      <td>NaN</td>\n",
       "      <td>NaN</td>\n",
       "      <td>NaN</td>\n",
       "      <td>NaN</td>\n",
       "      <td>NaN</td>\n",
       "      <td>NaN</td>\n",
       "      <td>...</td>\n",
       "      <td>[1.64, 1.87, 1.64, 1.86, 1.87]</td>\n",
       "      <td>[0.72, 0.72, 0.72, 0.72, 0.72]</td>\n",
       "      <td>[1.04, 0.33, 0.21, 0.21, 1.03]</td>\n",
       "      <td>[1.69, 1.76, 1.8, 1.79, 1.71]</td>\n",
       "      <td>3.69</td>\n",
       "      <td>36.33</td>\n",
       "      <td>8.88</td>\n",
       "      <td>3.60</td>\n",
       "      <td>2.82</td>\n",
       "      <td>8.75</td>\n",
       "    </tr>\n",
       "    <tr>\n",
       "      <th>2</th>\n",
       "      <td>BangkokBuilding2</td>\n",
       "      <td>NaN</td>\n",
       "      <td>yes</td>\n",
       "      <td>NaN</td>\n",
       "      <td>NaN</td>\n",
       "      <td>NaN</td>\n",
       "      <td>NaN</td>\n",
       "      <td>NaN</td>\n",
       "      <td>NaN</td>\n",
       "      <td>NaN</td>\n",
       "      <td>...</td>\n",
       "      <td>[0.33, 0.39, 0.33, 0.38, 0.39]</td>\n",
       "      <td>[0.28, 0.28, 0.26, 0.26, 0.28]</td>\n",
       "      <td>[0.63, 0.11, 0.56, 0.55, 0.55]</td>\n",
       "      <td>[0.77, 0.79, 0.7, 1.17, 0.85]</td>\n",
       "      <td>5.01</td>\n",
       "      <td>33.87</td>\n",
       "      <td>1.82</td>\n",
       "      <td>1.36</td>\n",
       "      <td>2.40</td>\n",
       "      <td>4.28</td>\n",
       "    </tr>\n",
       "    <tr>\n",
       "      <th>3</th>\n",
       "      <td>BangkokBuilding3</td>\n",
       "      <td>NaN</td>\n",
       "      <td>yes</td>\n",
       "      <td>NaN</td>\n",
       "      <td>NaN</td>\n",
       "      <td>NaN</td>\n",
       "      <td>NaN</td>\n",
       "      <td>NaN</td>\n",
       "      <td>NaN</td>\n",
       "      <td>NaN</td>\n",
       "      <td>...</td>\n",
       "      <td>[0.34, 0.39, 0.33, 0.38, 0.39]</td>\n",
       "      <td>[0.28, 0.28, 0.26, 0.26, 0.28]</td>\n",
       "      <td>[0.64, 0.11, 0.56, 0.55, 0.55]</td>\n",
       "      <td>[0.77, 0.79, 0.7, 1.17, 0.86]</td>\n",
       "      <td>5.00</td>\n",
       "      <td>33.87</td>\n",
       "      <td>1.83</td>\n",
       "      <td>1.36</td>\n",
       "      <td>2.41</td>\n",
       "      <td>4.29</td>\n",
       "    </tr>\n",
       "    <tr>\n",
       "      <th>4</th>\n",
       "      <td>BangkokBuilding4</td>\n",
       "      <td>NaN</td>\n",
       "      <td>yes</td>\n",
       "      <td>NaN</td>\n",
       "      <td>NaN</td>\n",
       "      <td>NaN</td>\n",
       "      <td>NaN</td>\n",
       "      <td>NaN</td>\n",
       "      <td>NaN</td>\n",
       "      <td>NaN</td>\n",
       "      <td>...</td>\n",
       "      <td>[0.34, 0.4, 0.33, 0.39, 0.4]</td>\n",
       "      <td>[0.28, 0.28, 0.26, 0.26, 0.28]</td>\n",
       "      <td>[0.63, 0.11, 0.55, 0.55, 0.55]</td>\n",
       "      <td>[0.77, 0.79, 0.7, 1.17, 0.85]</td>\n",
       "      <td>5.00</td>\n",
       "      <td>33.87</td>\n",
       "      <td>1.86</td>\n",
       "      <td>1.36</td>\n",
       "      <td>2.39</td>\n",
       "      <td>4.28</td>\n",
       "    </tr>\n",
       "    <tr>\n",
       "      <th>...</th>\n",
       "      <td>...</td>\n",
       "      <td>...</td>\n",
       "      <td>...</td>\n",
       "      <td>...</td>\n",
       "      <td>...</td>\n",
       "      <td>...</td>\n",
       "      <td>...</td>\n",
       "      <td>...</td>\n",
       "      <td>...</td>\n",
       "      <td>...</td>\n",
       "      <td>...</td>\n",
       "      <td>...</td>\n",
       "      <td>...</td>\n",
       "      <td>...</td>\n",
       "      <td>...</td>\n",
       "      <td>...</td>\n",
       "      <td>...</td>\n",
       "      <td>...</td>\n",
       "      <td>...</td>\n",
       "      <td>...</td>\n",
       "      <td>...</td>\n",
       "    </tr>\n",
       "    <tr>\n",
       "      <th>31071</th>\n",
       "      <td>BangkokBuilding32767</td>\n",
       "      <td>NaN</td>\n",
       "      <td>house</td>\n",
       "      <td>2</td>\n",
       "      <td>NaN</td>\n",
       "      <td>NaN</td>\n",
       "      <td>NaN</td>\n",
       "      <td>NaN</td>\n",
       "      <td>NaN</td>\n",
       "      <td>NaN</td>\n",
       "      <td>...</td>\n",
       "      <td>[0.26, 0.18, 0.26, 0.19, 0.18]</td>\n",
       "      <td>[0.95, 0.94, 0.94, 0.95, 0.75]</td>\n",
       "      <td>[0.24]</td>\n",
       "      <td>[0.68, 0.64, 0.58, 0.9, 0.7]</td>\n",
       "      <td>1.49</td>\n",
       "      <td>31.18</td>\n",
       "      <td>1.07</td>\n",
       "      <td>4.53</td>\n",
       "      <td>0.24</td>\n",
       "      <td>3.50</td>\n",
       "    </tr>\n",
       "    <tr>\n",
       "      <th>31072</th>\n",
       "      <td>BangkokBuilding32768</td>\n",
       "      <td>NaN</td>\n",
       "      <td>house</td>\n",
       "      <td>2.0</td>\n",
       "      <td>NaN</td>\n",
       "      <td>NaN</td>\n",
       "      <td>NaN</td>\n",
       "      <td>NaN</td>\n",
       "      <td>NaN</td>\n",
       "      <td>NaN</td>\n",
       "      <td>...</td>\n",
       "      <td>[0.26, 0.18, 0.27, 0.19, 0.18]</td>\n",
       "      <td>[0.95, 0.94, 0.94, 0.95, 0.75]</td>\n",
       "      <td>[0.25]</td>\n",
       "      <td>[0.68, 0.64, 0.59, 0.9, 0.71]</td>\n",
       "      <td>1.48</td>\n",
       "      <td>31.18</td>\n",
       "      <td>1.08</td>\n",
       "      <td>4.53</td>\n",
       "      <td>0.25</td>\n",
       "      <td>3.52</td>\n",
       "    </tr>\n",
       "    <tr>\n",
       "      <th>31073</th>\n",
       "      <td>BangkokBuilding32769</td>\n",
       "      <td>NaN</td>\n",
       "      <td>house</td>\n",
       "      <td>2.0</td>\n",
       "      <td>NaN</td>\n",
       "      <td>NaN</td>\n",
       "      <td>NaN</td>\n",
       "      <td>NaN</td>\n",
       "      <td>NaN</td>\n",
       "      <td>NaN</td>\n",
       "      <td>...</td>\n",
       "      <td>[0.26, 0.18, 0.27, 0.19, 0.18]</td>\n",
       "      <td>[0.95, 0.94, 0.94, 0.95, 0.75]</td>\n",
       "      <td>[0.25]</td>\n",
       "      <td>[0.68, 0.64, 0.59, 0.91, 0.71]</td>\n",
       "      <td>1.48</td>\n",
       "      <td>31.20</td>\n",
       "      <td>1.08</td>\n",
       "      <td>4.53</td>\n",
       "      <td>0.25</td>\n",
       "      <td>3.53</td>\n",
       "    </tr>\n",
       "    <tr>\n",
       "      <th>31074</th>\n",
       "      <td>BangkokBuilding32770</td>\n",
       "      <td>NaN</td>\n",
       "      <td>house</td>\n",
       "      <td>2.0</td>\n",
       "      <td>NaN</td>\n",
       "      <td>NaN</td>\n",
       "      <td>NaN</td>\n",
       "      <td>NaN</td>\n",
       "      <td>NaN</td>\n",
       "      <td>NaN</td>\n",
       "      <td>...</td>\n",
       "      <td>[0.26, 0.18, 0.27, 0.19, 0.18]</td>\n",
       "      <td>[0.95, 0.95, 0.94, 0.95, 0.75]</td>\n",
       "      <td>[0.25]</td>\n",
       "      <td>[0.69, 0.64, 0.59, 0.91, 0.71]</td>\n",
       "      <td>1.48</td>\n",
       "      <td>31.19</td>\n",
       "      <td>1.08</td>\n",
       "      <td>4.54</td>\n",
       "      <td>0.25</td>\n",
       "      <td>3.54</td>\n",
       "    </tr>\n",
       "    <tr>\n",
       "      <th>31075</th>\n",
       "      <td>BangkokBuilding32771</td>\n",
       "      <td>NaN</td>\n",
       "      <td>house</td>\n",
       "      <td>2.0</td>\n",
       "      <td>NaN</td>\n",
       "      <td>NaN</td>\n",
       "      <td>NaN</td>\n",
       "      <td>NaN</td>\n",
       "      <td>NaN</td>\n",
       "      <td>NaN</td>\n",
       "      <td>...</td>\n",
       "      <td>[0.27, 0.19, 0.27, 0.2, 0.19]</td>\n",
       "      <td>[0.95, 0.95, 0.95, 0.95, 0.75]</td>\n",
       "      <td>[0.25]</td>\n",
       "      <td>[0.69, 0.65, 0.59, 0.91, 0.71]</td>\n",
       "      <td>1.48</td>\n",
       "      <td>31.22</td>\n",
       "      <td>1.12</td>\n",
       "      <td>4.55</td>\n",
       "      <td>0.25</td>\n",
       "      <td>3.55</td>\n",
       "    </tr>\n",
       "  </tbody>\n",
       "</table>\n",
       "<p>31076 rows × 37 columns</p>\n",
       "</div>"
      ],
      "text/plain": [
       "                   Building name_en building building_l  building_m  \\\n",
       "0          BangkokBuilding0     NaN      yes        NaN         NaN   \n",
       "1          BangkokBuilding1     NaN      yes        NaN         NaN   \n",
       "2          BangkokBuilding2     NaN      yes        NaN         NaN   \n",
       "3          BangkokBuilding3     NaN      yes        NaN         NaN   \n",
       "4          BangkokBuilding4     NaN      yes        NaN         NaN   \n",
       "...                     ...     ...      ...        ...         ...   \n",
       "31071  BangkokBuilding32767     NaN    house          2         NaN   \n",
       "31072  BangkokBuilding32768     NaN    house        2.0         NaN   \n",
       "31073  BangkokBuilding32769     NaN    house        2.0         NaN   \n",
       "31074  BangkokBuilding32770     NaN    house        2.0         NaN   \n",
       "31075  BangkokBuilding32771     NaN    house        2.0         NaN   \n",
       "\n",
       "       addr_full addr_house addr_stree addr_city office  ...  \\\n",
       "0            NaN        NaN        NaN       NaN    NaN  ...   \n",
       "1            NaN        NaN        NaN       NaN    NaN  ...   \n",
       "2            NaN        NaN        NaN       NaN    NaN  ...   \n",
       "3            NaN        NaN        NaN       NaN    NaN  ...   \n",
       "4            NaN        NaN        NaN       NaN    NaN  ...   \n",
       "...          ...        ...        ...       ...    ...  ...   \n",
       "31071        NaN        NaN        NaN       NaN    NaN  ...   \n",
       "31072        NaN        NaN        NaN       NaN    NaN  ...   \n",
       "31073        NaN        NaN        NaN       NaN    NaN  ...   \n",
       "31074        NaN        NaN        NaN       NaN    NaN  ...   \n",
       "31075        NaN        NaN        NaN       NaN    NaN  ...   \n",
       "\n",
       "                        Public_nearby                   School_nearby  \\\n",
       "0      [1.73, 1.48, 1.73, 1.48, 1.49]  [0.77, 0.79, 0.78, 0.78, 0.77]   \n",
       "1      [1.64, 1.87, 1.64, 1.86, 1.87]  [0.72, 0.72, 0.72, 0.72, 0.72]   \n",
       "2      [0.33, 0.39, 0.33, 0.38, 0.39]  [0.28, 0.28, 0.26, 0.26, 0.28]   \n",
       "3      [0.34, 0.39, 0.33, 0.38, 0.39]  [0.28, 0.28, 0.26, 0.26, 0.28]   \n",
       "4        [0.34, 0.4, 0.33, 0.39, 0.4]  [0.28, 0.28, 0.26, 0.26, 0.28]   \n",
       "...                               ...                             ...   \n",
       "31071  [0.26, 0.18, 0.26, 0.19, 0.18]  [0.95, 0.94, 0.94, 0.95, 0.75]   \n",
       "31072  [0.26, 0.18, 0.27, 0.19, 0.18]  [0.95, 0.94, 0.94, 0.95, 0.75]   \n",
       "31073  [0.26, 0.18, 0.27, 0.19, 0.18]  [0.95, 0.94, 0.94, 0.95, 0.75]   \n",
       "31074  [0.26, 0.18, 0.27, 0.19, 0.18]  [0.95, 0.95, 0.94, 0.95, 0.75]   \n",
       "31075   [0.27, 0.19, 0.27, 0.2, 0.19]  [0.95, 0.95, 0.95, 0.95, 0.75]   \n",
       "\n",
       "                        Sports_nearby                Transport_nearby  \\\n",
       "0         [0.6, 0.6, 0.6, 0.51, 0.59]   [1.67, 1.58, 1.69, 1.71, 1.9]   \n",
       "1      [1.04, 0.33, 0.21, 0.21, 1.03]   [1.69, 1.76, 1.8, 1.79, 1.71]   \n",
       "2      [0.63, 0.11, 0.56, 0.55, 0.55]   [0.77, 0.79, 0.7, 1.17, 0.85]   \n",
       "3      [0.64, 0.11, 0.56, 0.55, 0.55]   [0.77, 0.79, 0.7, 1.17, 0.86]   \n",
       "4      [0.63, 0.11, 0.55, 0.55, 0.55]   [0.77, 0.79, 0.7, 1.17, 0.85]   \n",
       "...                               ...                             ...   \n",
       "31071                          [0.24]    [0.68, 0.64, 0.58, 0.9, 0.7]   \n",
       "31072                          [0.25]   [0.68, 0.64, 0.59, 0.9, 0.71]   \n",
       "31073                          [0.25]  [0.68, 0.64, 0.59, 0.91, 0.71]   \n",
       "31074                          [0.25]  [0.69, 0.64, 0.59, 0.91, 0.71]   \n",
       "31075                          [0.25]  [0.69, 0.65, 0.59, 0.91, 0.71]   \n",
       "\n",
       "       Civic_Score  Government_Score Public_Score School_Score Sports_Score  \\\n",
       "0             2.74             37.24         7.91         3.89         2.90   \n",
       "1             3.69             36.33         8.88         3.60         2.82   \n",
       "2             5.01             33.87         1.82         1.36         2.40   \n",
       "3             5.00             33.87         1.83         1.36         2.41   \n",
       "4             5.00             33.87         1.86         1.36         2.39   \n",
       "...            ...               ...          ...          ...          ...   \n",
       "31071         1.49             31.18         1.07         4.53         0.24   \n",
       "31072         1.48             31.18         1.08         4.53         0.25   \n",
       "31073         1.48             31.20         1.08         4.53         0.25   \n",
       "31074         1.48             31.19         1.08         4.54         0.25   \n",
       "31075         1.48             31.22         1.12         4.55         0.25   \n",
       "\n",
       "      Transport_Score  \n",
       "0                8.55  \n",
       "1                8.75  \n",
       "2                4.28  \n",
       "3                4.29  \n",
       "4                4.28  \n",
       "...               ...  \n",
       "31071            3.50  \n",
       "31072            3.52  \n",
       "31073            3.53  \n",
       "31074            3.54  \n",
       "31075            3.55  \n",
       "\n",
       "[31076 rows x 37 columns]"
      ]
     },
     "execution_count": 21,
     "metadata": {},
     "output_type": "execute_result"
    }
   ],
   "source": [
    "df"
   ]
  },
  {
   "cell_type": "code",
   "execution_count": 35,
   "id": "2870e239-ecc5-49ba-b3bc-049317651297",
   "metadata": {},
   "outputs": [
    {
     "data": {
      "text/plain": [
       "'Transport_Score'"
      ]
     },
     "execution_count": 35,
     "metadata": {},
     "output_type": "execute_result"
    }
   ],
   "source": [
    "df.columns[36]"
   ]
  },
  {
   "cell_type": "code",
   "execution_count": null,
   "id": "18da0823-59fa-4a58-b3ab-c92b4ad189a6",
   "metadata": {},
   "outputs": [],
   "source": [
    "%%time\n",
    "for i in range(31, 37):\n",
    "    col = df.columns[i]\n",
    "    mx = (df[col]).max()\n",
    "    mn = (df[col]).min()\n",
    "    for j in df.index:\n",
    "        data = df[col].iloc[j]\n",
    "        scaled = (data - mn)/(mx-mn)\n",
    "        df[col].iloc[j] = scaled*10"
   ]
  },
  {
   "cell_type": "code",
   "execution_count": null,
   "id": "d70a51bd-9168-4f4d-8551-94e17fd03a12",
   "metadata": {},
   "outputs": [],
   "source": [
    "df"
   ]
  },
  {
   "cell_type": "code",
   "execution_count": null,
   "id": "1c3699ed-4323-4e23-929f-4a157e767586",
   "metadata": {},
   "outputs": [],
   "source": []
  },
  {
   "cell_type": "code",
   "execution_count": null,
   "id": "3525ae8b-008b-49e4-98c2-49f2bc69be4d",
   "metadata": {},
   "outputs": [],
   "source": []
  },
  {
   "cell_type": "code",
   "execution_count": null,
   "id": "86599030-8c2e-49a0-835b-3110d6b2f1d0",
   "metadata": {},
   "outputs": [],
   "source": []
  },
  {
   "cell_type": "code",
   "execution_count": null,
   "id": "574f11b8-2ab9-4f20-b2d4-6b6c489e5079",
   "metadata": {},
   "outputs": [],
   "source": []
  },
  {
   "cell_type": "code",
   "execution_count": null,
   "id": "6b6154b6-31f0-4278-83ea-066883922f58",
   "metadata": {},
   "outputs": [],
   "source": []
  },
  {
   "cell_type": "code",
   "execution_count": null,
   "id": "3507b519-089b-4374-9415-8eb9277d631e",
   "metadata": {},
   "outputs": [],
   "source": []
  },
  {
   "cell_type": "code",
   "execution_count": null,
   "id": "3c2cb523-cfe4-409e-a5bd-7b8ac5dd4f0d",
   "metadata": {},
   "outputs": [],
   "source": []
  },
  {
   "cell_type": "code",
   "execution_count": null,
   "id": "d68ab89a-eeb2-48bc-b7bf-80159fdab630",
   "metadata": {},
   "outputs": [],
   "source": []
  },
  {
   "cell_type": "code",
   "execution_count": null,
   "id": "d403f7ef-0eb4-4649-a5dd-1a1a8518337e",
   "metadata": {},
   "outputs": [],
   "source": []
  },
  {
   "cell_type": "code",
   "execution_count": null,
   "id": "687a2f5d-6c64-4500-b696-ee343736f52a",
   "metadata": {},
   "outputs": [],
   "source": []
  },
  {
   "cell_type": "code",
   "execution_count": null,
   "id": "28ce091a-fd24-4831-9d3a-e6e3ab852553",
   "metadata": {},
   "outputs": [],
   "source": []
  },
  {
   "cell_type": "code",
   "execution_count": null,
   "id": "ec67db5e-6649-4bf2-bdf7-6eabb140e272",
   "metadata": {},
   "outputs": [],
   "source": []
  },
  {
   "cell_type": "code",
   "execution_count": null,
   "id": "3d40485c-b164-4b89-bc67-17687f350dee",
   "metadata": {},
   "outputs": [],
   "source": []
  },
  {
   "cell_type": "code",
   "execution_count": null,
   "id": "fe54a9de-9f81-4094-8c26-870ff60fd1e5",
   "metadata": {},
   "outputs": [],
   "source": []
  },
  {
   "cell_type": "code",
   "execution_count": null,
   "id": "5f30c113-6037-4a58-a4a5-8bb5941bd102",
   "metadata": {},
   "outputs": [],
   "source": []
  },
  {
   "cell_type": "code",
   "execution_count": null,
   "id": "a2cf54c6-c128-4117-9d1f-f4980c6f8fb3",
   "metadata": {},
   "outputs": [],
   "source": []
  },
  {
   "cell_type": "code",
   "execution_count": null,
   "id": "cd06457e-f4e8-4242-8adb-ecf6b0a0770c",
   "metadata": {},
   "outputs": [],
   "source": []
  },
  {
   "cell_type": "code",
   "execution_count": null,
   "id": "26c4353d-2c90-469b-a4d9-5f59a2f5c839",
   "metadata": {},
   "outputs": [],
   "source": []
  },
  {
   "cell_type": "code",
   "execution_count": null,
   "id": "da45ab31-c4e5-4f59-97f6-32a54da09aef",
   "metadata": {},
   "outputs": [],
   "source": []
  },
  {
   "cell_type": "code",
   "execution_count": null,
   "id": "1b9c905c-67ed-47d4-ba83-167ee963c36f",
   "metadata": {},
   "outputs": [],
   "source": []
  },
  {
   "cell_type": "code",
   "execution_count": null,
   "id": "3e6739b6-fa40-4026-b15b-5677a5ddc7f9",
   "metadata": {},
   "outputs": [],
   "source": []
  },
  {
   "cell_type": "code",
   "execution_count": null,
   "id": "fd5228b6-fcd1-4b11-8055-c8788987e52c",
   "metadata": {},
   "outputs": [],
   "source": []
  },
  {
   "cell_type": "code",
   "execution_count": null,
   "id": "55621959-cc32-4745-a8a0-c6057f40e3e9",
   "metadata": {},
   "outputs": [],
   "source": []
  },
  {
   "cell_type": "code",
   "execution_count": null,
   "id": "250c088d-a7de-4ba7-bbb7-61aa89fb165b",
   "metadata": {},
   "outputs": [],
   "source": []
  },
  {
   "cell_type": "code",
   "execution_count": null,
   "id": "0929fc4a-f6d3-46c5-91fb-165e722339bd",
   "metadata": {},
   "outputs": [],
   "source": []
  },
  {
   "cell_type": "code",
   "execution_count": null,
   "id": "576180d9-6dde-442d-ab79-3081b7d0a545",
   "metadata": {},
   "outputs": [],
   "source": []
  },
  {
   "cell_type": "code",
   "execution_count": null,
   "id": "42f5688e-3cab-4525-88c1-0eeaf37a7a0c",
   "metadata": {},
   "outputs": [],
   "source": []
  },
  {
   "cell_type": "code",
   "execution_count": null,
   "id": "db5ab476-27e0-491a-b036-b5a3a748e1d7",
   "metadata": {},
   "outputs": [],
   "source": []
  },
  {
   "cell_type": "code",
   "execution_count": null,
   "id": "20c42876-9788-42d1-8be1-642743f76524",
   "metadata": {},
   "outputs": [],
   "source": []
  },
  {
   "cell_type": "code",
   "execution_count": null,
   "id": "a09a5d14-4eb6-4db7-a823-3a3f0a0d8e09",
   "metadata": {},
   "outputs": [],
   "source": []
  },
  {
   "cell_type": "code",
   "execution_count": null,
   "id": "c21937b7-10cc-41fa-971f-9e434f71bd6d",
   "metadata": {},
   "outputs": [],
   "source": []
  },
  {
   "cell_type": "code",
   "execution_count": null,
   "id": "030d3f11-5b6f-4ba3-86a5-43ef8267d7bb",
   "metadata": {},
   "outputs": [],
   "source": []
  },
  {
   "cell_type": "code",
   "execution_count": null,
   "id": "72120b76-ad1a-48f2-a45f-2dff1cb945b5",
   "metadata": {},
   "outputs": [],
   "source": []
  },
  {
   "cell_type": "code",
   "execution_count": null,
   "id": "e064e097-1de0-434d-b9c4-28edd0607ca9",
   "metadata": {},
   "outputs": [],
   "source": []
  },
  {
   "cell_type": "code",
   "execution_count": null,
   "id": "e1671527-1600-4739-93dd-3911d9c9f5bf",
   "metadata": {},
   "outputs": [],
   "source": []
  },
  {
   "cell_type": "code",
   "execution_count": null,
   "id": "c057b29c-49da-41cd-b7b2-3d59472b167d",
   "metadata": {},
   "outputs": [],
   "source": []
  },
  {
   "cell_type": "code",
   "execution_count": null,
   "id": "7f654198-2d71-40ef-8c47-9dfcf228ed42",
   "metadata": {},
   "outputs": [],
   "source": []
  },
  {
   "cell_type": "code",
   "execution_count": null,
   "id": "a2b99eee-cff7-497d-843c-bcd2a232b015",
   "metadata": {},
   "outputs": [],
   "source": []
  },
  {
   "cell_type": "code",
   "execution_count": null,
   "id": "b3f5bb09-5026-4fe6-9000-1b23148d7f4a",
   "metadata": {},
   "outputs": [],
   "source": []
  },
  {
   "cell_type": "code",
   "execution_count": null,
   "id": "e0b8d4b6-9e1c-4cee-8b3a-0d6cc5cc51f3",
   "metadata": {},
   "outputs": [],
   "source": []
  },
  {
   "cell_type": "code",
   "execution_count": null,
   "id": "99bc40c7-0940-4cbc-b9ca-476802bae3d5",
   "metadata": {},
   "outputs": [],
   "source": []
  },
  {
   "cell_type": "code",
   "execution_count": null,
   "id": "a46a6de0-e131-44c0-9495-7f320f42feec",
   "metadata": {},
   "outputs": [],
   "source": []
  },
  {
   "cell_type": "code",
   "execution_count": null,
   "id": "6867a4de-6780-4523-98b9-0f80389de6c2",
   "metadata": {},
   "outputs": [],
   "source": []
  },
  {
   "cell_type": "code",
   "execution_count": null,
   "id": "f7d98749-751d-484a-8f4e-1ffe67becd87",
   "metadata": {},
   "outputs": [],
   "source": []
  },
  {
   "cell_type": "code",
   "execution_count": null,
   "id": "c2328f29-06a1-4ea2-a705-d28228f642e1",
   "metadata": {},
   "outputs": [],
   "source": []
  },
  {
   "cell_type": "code",
   "execution_count": null,
   "id": "8d8ba8c9-252d-443d-83eb-55a107a8ad72",
   "metadata": {},
   "outputs": [],
   "source": []
  },
  {
   "cell_type": "code",
   "execution_count": null,
   "id": "b348122f",
   "metadata": {},
   "outputs": [],
   "source": [
    "%%time\n",
    "columns = ['Civic', 'Government', 'Public', 'School', 'Sports', 'Transport']\n",
    "\n",
    "for col in columns:\n",
    "    df[f'{col}_1km'] = None\n",
    "    df[f'{col}_5km'] = None\n",
    "    df[f'{col}_10km'] = None\n",
    "\n",
    "for i in df.index:\n",
    "    for col in columns:\n",
    "        df[f'{col}_1km'].iloc[i] = [number for number in df[col].iloc[i] if number <= 1]\n",
    "        df[f'{col}_5km'].iloc[i] = [number for number in df[col].iloc[i] if number <= 5]\n",
    "        df[f'{col}_10km'].iloc[i] = [number for number in df[col].iloc[i] if number <= 10]\n"
   ]
  },
  {
   "cell_type": "code",
   "execution_count": null,
   "id": "ae8260be",
   "metadata": {},
   "outputs": [],
   "source": [
    "%%time\n",
    "columns = ['Civic', 'Government', 'Public', 'School', 'Sports', 'Transport']\n",
    "\n",
    "for i in df.index:\n",
    "    for col in columns:\n",
    "        df[f'{col}_1km'].iloc[i] = [round(1 - x, 2) for x in df[f'{col}_1km'].iloc[i]]\n",
    "        df[f'{col}_5km'].iloc[i] = [round(5 - x, 2) for x in df[f'{col}_5km'].iloc[i]]\n",
    "        df[f'{col}_10km'].iloc[i] = [round(10 - x, 2) for x in df[f'{col}_10km'].iloc[i]]"
   ]
  },
  {
   "cell_type": "code",
   "execution_count": null,
   "id": "ffd6db3c",
   "metadata": {},
   "outputs": [],
   "source": [
    "%%time\n",
    "# Initialize score columns\n",
    "columns = ['Civic', 'Government', 'Public', 'School', 'Sports', 'Transport']\n",
    "\n",
    "for col in columns:\n",
    "    df[f'{col}_1km_Score'] = None\n",
    "    df[f'{col}_5km_Score'] = None\n",
    "    df[f'{col}_10km_Score'] = None\n",
    "\n",
    "# Calculate scores\n",
    "for i in df.index:\n",
    "    for col in columns:\n",
    "        df[f'{col}_1km_Score'].iloc[i] = sum(df[f'{col}_1km'][i])\n",
    "        df[f'{col}_5km_Score'].iloc[i] = sum(df[f'{col}_5km'][i])\n",
    "        df[f'{col}_10km_Score'].iloc[i] = sum(df[f'{col}_10km'][i])\n"
   ]
  },
  {
   "cell_type": "code",
   "execution_count": null,
   "id": "3f330f80",
   "metadata": {},
   "outputs": [],
   "source": [
    "df.columns[43]"
   ]
  },
  {
   "cell_type": "code",
   "execution_count": null,
   "id": "97676b4e",
   "metadata": {},
   "outputs": [],
   "source": [
    "%%time\n",
    "for i in range(43, 61):\n",
    "    col = df.columns[i]\n",
    "    mx = (df[col]).max()\n",
    "    mn = (df[col]).min()\n",
    "    for j in df.index:\n",
    "        data = df[col].iloc[j]\n",
    "        scaled = (data - mn)/(mx-mn)\n",
    "        df[col].iloc[j] = scaled*10"
   ]
  },
  {
   "cell_type": "code",
   "execution_count": null,
   "id": "fd43663f",
   "metadata": {},
   "outputs": [],
   "source": [
    "%%time\n",
    "for i in range(43, 61):\n",
    "    try:\n",
    "        col = df.columns[i]\n",
    "        #print(col)\n",
    "        df[col] = df[col].astype(float)\n",
    "        df[col] = round(df[col], 2)\n",
    "    except:\n",
    "        print('Error')"
   ]
  },
  {
   "cell_type": "code",
   "execution_count": null,
   "id": "af00470b",
   "metadata": {},
   "outputs": [],
   "source": [
    "df.columns"
   ]
  },
  {
   "cell_type": "code",
   "execution_count": null,
   "id": "149cc41a",
   "metadata": {},
   "outputs": [],
   "source": [
    "df = df[['Building','lon', 'lat', 'Civic_1km_Score', 'Civic_5km_Score',\n",
    "       'Civic_10km_Score', 'Government_1km_Score', 'Government_5km_Score',\n",
    "       'Government_10km_Score', 'Public_1km_Score', 'Public_5km_Score',\n",
    "       'Public_10km_Score', 'School_1km_Score', 'School_5km_Score',\n",
    "       'School_10km_Score', 'Sports_1km_Score', 'Sports_5km_Score',\n",
    "       'Sports_10km_Score', 'Transport_1km_Score', 'Transport_5km_Score',\n",
    "       'Transport_10km_Score']]"
   ]
  },
  {
   "cell_type": "code",
   "execution_count": null,
   "id": "293f5f0d",
   "metadata": {},
   "outputs": [],
   "source": [
    "df.to_csv('BangkokScoreRAW.csv', index = False)"
   ]
  },
  {
   "cell_type": "code",
   "execution_count": null,
   "id": "bf2b65db",
   "metadata": {},
   "outputs": [],
   "source": [
    "df"
   ]
  },
  {
   "cell_type": "code",
   "execution_count": null,
   "id": "61dacb13",
   "metadata": {},
   "outputs": [],
   "source": []
  }
 ],
 "metadata": {
  "kernelspec": {
   "display_name": "Python [conda env:base] *",
   "language": "python",
   "name": "conda-base-py"
  },
  "language_info": {
   "codemirror_mode": {
    "name": "ipython",
    "version": 3
   },
   "file_extension": ".py",
   "mimetype": "text/x-python",
   "name": "python",
   "nbconvert_exporter": "python",
   "pygments_lexer": "ipython3",
   "version": "3.9.21"
  }
 },
 "nbformat": 4,
 "nbformat_minor": 5
}
