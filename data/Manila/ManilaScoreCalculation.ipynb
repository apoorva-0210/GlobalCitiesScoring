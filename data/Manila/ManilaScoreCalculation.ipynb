{
 "cells": [
  {
   "cell_type": "code",
   "execution_count": null,
   "id": "f723f60c",
   "metadata": {},
   "outputs": [],
   "source": [
    "import pandas as pd\n",
    "import warnings\n",
    "warnings.filterwarnings('ignore')\n",
    "from geopy.geocoders import Nominatim\n",
    "from math import radians, cos, sin, asin, sqrt\n",
    "from numpy import cos, sin, arcsin, sqrt\n",
    "from ast import literal_eval\n",
    "from tqdm import tqdm\n",
    "import requests\n",
    "import json\n",
    "import networkx as nx\n",
    "import osmnx as ox\n",
    "import requests\n",
    "from geopy import Point\n",
    "from geopy.distance import geodesic\n",
    "import numpy as np"
   ]
  },
  {
   "cell_type": "code",
   "execution_count": null,
   "id": "e80a1ecf",
   "metadata": {},
   "outputs": [],
   "source": [
    "df_building = pd.read_csv('ManilaBuildingsFinal.csv')"
   ]
  },
  {
   "cell_type": "code",
   "execution_count": null,
   "id": "258b068b",
   "metadata": {},
   "outputs": [],
   "source": [
    "df_building.rename(columns={'name' : 'Building'}, inplace = True)"
   ]
  },
  {
   "cell_type": "code",
   "execution_count": null,
   "id": "413bbad3",
   "metadata": {},
   "outputs": [],
   "source": [
    "df_civic = pd.read_csv('CivicDistance.csv')\n",
    "df_fire = pd.read_csv('FireDistance.csv')\n",
    "df_government = pd.read_csv('GovernmentDistance.csv')\n",
    "df_hospital = pd.read_csv('HospitalDistance.csv')\n",
    "df_public = pd.read_csv('PublicDistance.csv')\n",
    "df_school = pd.read_csv('SchoolDistance.csv')\n",
    "df_sports = pd.read_csv('SportsDistance.csv')\n",
    "df_supermarket = pd.read_csv('SupermarketDistance.csv')\n",
    "df_toilet = pd.read_csv('ToiletDistance.csv')\n",
    "df_transport = pd.read_csv('TransportDistance.csv')"
   ]
  },
  {
   "cell_type": "code",
   "execution_count": null,
   "id": "60f8409f",
   "metadata": {},
   "outputs": [],
   "source": [
    "df_civic = df_civic.groupby('InputID').agg(lambda x: list(x))\n",
    "df_fire = df_fire.groupby('InputID').agg(lambda x: list(x))\n",
    "df_government = df_government.groupby('InputID').agg(lambda x: list(x))\n",
    "df_hospital = df_hospital.groupby('InputID').agg(lambda x: list(x))\n",
    "df_public = df_public.groupby('InputID').agg(lambda x: list(x))\n",
    "df_school = df_school.groupby('InputID').agg(lambda x: list(x))\n",
    "df_sports = df_sports.groupby('InputID').agg(lambda x: list(x))\n",
    "df_supermarket = df_supermarket.groupby('InputID').agg(lambda x: list(x))\n",
    "df_toilet = df_toilet.groupby('InputID').agg(lambda x: list(x))\n",
    "df_transport = df_transport.groupby('InputID').agg(lambda x: list(x))"
   ]
  },
  {
   "cell_type": "code",
   "execution_count": null,
   "id": "0cbba8d7",
   "metadata": {},
   "outputs": [],
   "source": [
    "df_civic = df_civic.reset_index()\n",
    "df_fire = df_fire.reset_index()\n",
    "df_government = df_government.reset_index()\n",
    "df_hospital = df_hospital.reset_index()\n",
    "df_public = df_public.reset_index()\n",
    "df_school = df_school.reset_index()\n",
    "df_sports = df_sports.reset_index()\n",
    "df_supermarket = df_supermarket.reset_index()\n",
    "df_toilet = df_toilet.reset_index()\n",
    "df_transport = df_transport.reset_index()"
   ]
  },
  {
   "cell_type": "code",
   "execution_count": null,
   "id": "9fe84279",
   "metadata": {},
   "outputs": [],
   "source": [
    "df_civic.drop(columns=['TargetID'], inplace = True)\n",
    "df_fire.drop(columns=['TargetID'], inplace = True)\n",
    "df_government.drop(columns=['TargetID'], inplace = True)\n",
    "df_hospital.drop(columns=['TargetID'], inplace = True)\n",
    "df_public.drop(columns=['TargetID'], inplace = True)\n",
    "df_school.drop(columns=['TargetID'], inplace = True)\n",
    "df_sports.drop(columns=['TargetID'], inplace = True)\n",
    "df_supermarket.drop(columns=['TargetID'], inplace = True)\n",
    "df_toilet.drop(columns=['TargetID'], inplace = True)\n",
    "df_transport.drop(columns=['TargetID'], inplace = True)"
   ]
  },
  {
   "cell_type": "code",
   "execution_count": null,
   "id": "47070655",
   "metadata": {},
   "outputs": [],
   "source": [
    "df_civic\n",
    "df_fire\n",
    "df_government\n",
    "df_hospital\n",
    "df_public\n",
    "df_school\n",
    "df_sports\n",
    "df_supermarket\n",
    "df_toilet\n",
    "df_transport"
   ]
  },
  {
   "cell_type": "code",
   "execution_count": null,
   "id": "7dcf9c20",
   "metadata": {},
   "outputs": [],
   "source": [
    "df_civic.rename(columns={'InputID':'Building', 'Distance':'Civic'}, inplace = True)\n",
    "df_fire.rename(columns={'InputID':'Building', 'Distance':'Fire'}, inplace = True)\n",
    "df_government.rename(columns={'InputID':'Building', 'Distance':'Government'}, inplace = True)\n",
    "df_hospital.rename(columns={'InputID':'Building', 'Distance':'Hospital'}, inplace = True)\n",
    "df_public.rename(columns={'InputID':'Building', 'Distance':'Public'}, inplace = True)\n",
    "df_school.rename(columns={'InputID':'Building', 'Distance':'School'}, inplace = True)\n",
    "df_sports.rename(columns={'InputID':'Building', 'Distance':'Sports'}, inplace = True)\n",
    "df_supermarket.rename(columns={'InputID':'Building', 'Distance':'Supermarket'}, inplace = True)\n",
    "df_toilet.rename(columns={'InputID':'Building', 'Distance':'Toilet'}, inplace = True)\n",
    "df_transport.rename(columns={'InputID':'Building', 'Distance':'Transport'}, inplace = True)"
   ]
  },
  {
   "cell_type": "code",
   "execution_count": null,
   "id": "ca157b7b",
   "metadata": {},
   "outputs": [],
   "source": [
    "df = df_building.merge(df_civic, on='Building', how = 'inner')\n",
    "df = df.merge(df_fire, on='Building', how = 'inner')\n",
    "df = df.merge(df_government, on='Building', how = 'inner')\n",
    "df = df.merge(df_hospital, on='Building', how = 'inner')\n",
    "df = df.merge(df_public, on='Building', how = 'inner')\n",
    "df = df.merge(df_school, on='Building', how = 'inner')\n",
    "df = df.merge(df_sports, on='Building', how = 'inner')\n",
    "df = df.merge(df_supermarket, on='Building', how = 'inner')\n",
    "df = df.merge(df_toilet, on='Building', how = 'inner')\n",
    "df = df.merge(df_transport, on='Building', how = 'inner')"
   ]
  },
  {
   "cell_type": "code",
   "execution_count": null,
   "id": "c4bb883a-13a1-4f60-9a18-ae064aaf3b29",
   "metadata": {},
   "outputs": [],
   "source": []
  },
  {
   "cell_type": "code",
   "execution_count": null,
   "id": "899d1670",
   "metadata": {},
   "outputs": [],
   "source": [
    "df"
   ]
  },
  {
   "cell_type": "code",
   "execution_count": null,
   "id": "75b9b3ce",
   "metadata": {},
   "outputs": [],
   "source": [
    "df.columns"
   ]
  },
  {
   "cell_type": "code",
   "execution_count": null,
   "id": "feeb558b",
   "metadata": {},
   "outputs": [],
   "source": [
    "df[['Civic', 'Fire', 'Government', 'Hospital', 'Public', 'School', 'Sports', 'Supermarket', 'Toilet', 'Transport']] = df[['Civic', 'Fire', 'Government', 'Hospital', 'Public', 'School', 'Sports', 'Supermarket', 'Toilet', 'Transport']].applymap(lambda x: np.divide(x, 10000) if isinstance(x, list) else x)"
   ]
  },
  {
   "cell_type": "code",
   "execution_count": null,
   "id": "845bb540",
   "metadata": {},
   "outputs": [],
   "source": [
    "#df[['Civic', 'Government']] = df[['Civic', 'Government']].applymap(lambda x: np.divide(x, 10000) if isinstance(x, list) else x)"
   ]
  },
  {
   "cell_type": "code",
   "execution_count": null,
   "id": "a6949303-be3e-4b5e-8f22-8b378904c7e2",
   "metadata": {},
   "outputs": [],
   "source": [
    "distance_map = {\n",
    "    'Civic': 1.5,\n",
    "    'Fire': 1.0,\n",
    "    'Government': 10.0,\n",
    "    'Hospital': 10.0,\n",
    "    'Public': 2.0,\n",
    "    'School': 1.0,\n",
    "    'Sports': 1.5,\n",
    "    'Supermarket': 1.0,\n",
    "    'Toilet': 0.1,\n",
    "    'Transport': 2.0,\n",
    "}\n",
    "for facility, max_dist in distance_map.items():\n",
    "    try:\n",
    "        df[f'{facility}_nearby'] = df[facility].apply(lambda lst: [d for d in lst if d <= max_dist])\n",
    "    except:\n",
    "        pass\n",
    "\n",
    "\n",
    "for facility, max_dist in distance_map.items():\n",
    "    try:\n",
    "        df[f'{facility}_nearby'] = df[f'{facility}_nearby'].apply(lambda lst: [round(max_dist - d, 2) for d in lst])\n",
    "    except:\n",
    "        pass\n",
    "\n",
    "\n",
    "for facility in distance_map:\n",
    "    try:\n",
    "        df[f'{facility}_Score'] = df[f'{facility}_nearby'].apply(sum)\n",
    "    except:\n",
    "        pass\n",
    "\n",
    "from sklearn.preprocessing import MinMaxScaler\n",
    "\n",
    "# Select score columns\n",
    "score_cols = [col for col in df.columns if col.endswith('_Score')]\n",
    "\n",
    "# Initialize scaler with feature range 0-10\n",
    "scaler = MinMaxScaler(feature_range=(0, 10))\n",
    "\n",
    "# Fit and transform, then round to 2 decimals\n",
    "df[score_cols] = pd.DataFrame(\n",
    "    scaler.fit_transform(df[score_cols]),\n",
    "    columns=score_cols,\n",
    "    index=df.index\n",
    ").round(2)\n"
   ]
  },
  {
   "cell_type": "code",
   "execution_count": null,
   "id": "769c2d08-a5e6-45d5-b0e2-1f7b8b46b2ca",
   "metadata": {},
   "outputs": [],
   "source": [
    "df.columns"
   ]
  },
  {
   "cell_type": "code",
   "execution_count": null,
   "id": "6f05e572-c550-4990-b7f5-5c81bfbba45f",
   "metadata": {},
   "outputs": [],
   "source": []
  },
  {
   "cell_type": "code",
   "execution_count": null,
   "id": "33917f4c-24dc-471b-aaf1-df244dcc9c46",
   "metadata": {},
   "outputs": [],
   "source": [
    "df.to_csv('ManilaScoreRAW1.csv', index = False)"
   ]
  },
  {
   "cell_type": "code",
   "execution_count": null,
   "id": "c5883644-514b-475d-bd11-f1f22f8b1895",
   "metadata": {},
   "outputs": [],
   "source": []
  },
  {
   "cell_type": "code",
   "execution_count": null,
   "id": "126bef90-7adf-45ff-9757-05c1c6f6b712",
   "metadata": {},
   "outputs": [],
   "source": []
  },
  {
   "cell_type": "code",
   "execution_count": null,
   "id": "6397cc7d-c95d-470d-8a43-531b5f43813d",
   "metadata": {},
   "outputs": [],
   "source": []
  },
  {
   "cell_type": "code",
   "execution_count": null,
   "id": "fe3abba3-1fcb-45bf-be22-36a9d9cdfe71",
   "metadata": {},
   "outputs": [],
   "source": []
  },
  {
   "cell_type": "code",
   "execution_count": null,
   "id": "7669b925-1a2f-4cd4-a72c-be2b5693ab0b",
   "metadata": {},
   "outputs": [],
   "source": []
  },
  {
   "cell_type": "code",
   "execution_count": null,
   "id": "f3291a08-e196-4fc4-a362-9d84caa043db",
   "metadata": {},
   "outputs": [],
   "source": []
  },
  {
   "cell_type": "code",
   "execution_count": null,
   "id": "22ebab4a-773b-48e3-8abf-34d573c8361a",
   "metadata": {},
   "outputs": [],
   "source": []
  },
  {
   "cell_type": "code",
   "execution_count": null,
   "id": "db433076-1f42-4de1-beba-22f32bffcef5",
   "metadata": {},
   "outputs": [],
   "source": []
  },
  {
   "cell_type": "code",
   "execution_count": null,
   "id": "3c42af11-3316-4e15-afd7-01428a661551",
   "metadata": {},
   "outputs": [],
   "source": []
  },
  {
   "cell_type": "code",
   "execution_count": null,
   "id": "646ed88f-904a-4a87-9a62-69076d55c35c",
   "metadata": {},
   "outputs": [],
   "source": []
  },
  {
   "cell_type": "code",
   "execution_count": null,
   "id": "39e33c06-73e9-438c-9694-f263cf066373",
   "metadata": {},
   "outputs": [],
   "source": []
  },
  {
   "cell_type": "code",
   "execution_count": null,
   "id": "adeff202-43c0-4567-b405-5818e5f20712",
   "metadata": {},
   "outputs": [],
   "source": []
  },
  {
   "cell_type": "code",
   "execution_count": null,
   "id": "4e7b6a86-d9f9-48f2-b5a4-76d163c5621d",
   "metadata": {},
   "outputs": [],
   "source": []
  },
  {
   "cell_type": "code",
   "execution_count": null,
   "id": "249f7b1a-b38f-4c23-a768-c485aa84c30c",
   "metadata": {},
   "outputs": [],
   "source": []
  },
  {
   "cell_type": "code",
   "execution_count": null,
   "id": "9f615a0b-8efa-4e35-a5b6-75ed2d87fae9",
   "metadata": {},
   "outputs": [],
   "source": []
  },
  {
   "cell_type": "code",
   "execution_count": null,
   "id": "e03fd40a-bedc-4bad-84e5-b8b84abc6ec2",
   "metadata": {},
   "outputs": [],
   "source": []
  },
  {
   "cell_type": "code",
   "execution_count": null,
   "id": "f02ab095-fb31-4554-8131-59a2abe54fdf",
   "metadata": {},
   "outputs": [],
   "source": []
  },
  {
   "cell_type": "code",
   "execution_count": null,
   "id": "b348122f",
   "metadata": {},
   "outputs": [],
   "source": [
    "%%time\n",
    "columns = ['Civic', 'Fire', 'Government', 'Hospital', 'Public', \n",
    "           'School', 'Sports', 'Supermarket', 'Toilet', 'Transport']\n",
    "\n",
    "for col in columns:\n",
    "    df[f'{col}_1km'] = None\n",
    "    df[f'{col}_5km'] = None\n",
    "    df[f'{col}_10km'] = None\n"
   ]
  },
  {
   "cell_type": "code",
   "execution_count": null,
   "id": "6d23def1",
   "metadata": {},
   "outputs": [],
   "source": [
    "%%time\n",
    "# Define columns\n",
    "#columns = ['Civic', 'Fire', 'Government', 'Hospital', 'Public', 'School', 'Sports', 'Supermarket', 'Toilet', 'Transport']\n",
    "columns = ['Transport']\n",
    "\n",
    "# Define a function to filter numbers based on distance\n",
    "def filter_distances(row, columns):\n",
    "    for col in columns:\n",
    "        row[f'{col}_1km'] = [number for number in row[col] if number <= 1]\n",
    "        row[f'{col}_5km'] = [number for number in row[col] if number <= 5]\n",
    "        row[f'{col}_10km'] = [number for number in row[col] if number <= 10]\n",
    "    return row\n",
    "\n",
    "# Apply the function across the dataframe\n",
    "df = df.apply(lambda row: filter_distances(row, columns), axis=1)\n"
   ]
  },
  {
   "cell_type": "code",
   "execution_count": null,
   "id": "1fce5f60",
   "metadata": {},
   "outputs": [],
   "source": [
    "df"
   ]
  },
  {
   "cell_type": "code",
   "execution_count": null,
   "id": "ae8260be",
   "metadata": {},
   "outputs": [],
   "source": [
    "%%time\n",
    "# Define columns\n",
    "#columns = ['Civic', 'Fire', 'Government', 'Hospital', 'Public', 'School', 'Sports', 'Supermarket', 'Toilet', 'Transport']\n",
    "columns = ['Transport']\n",
    "# Define a function to apply element-wise\n",
    "def transform_list(lst, val):\n",
    "    return [round(val - x, 2) for x in lst]\n",
    "\n",
    "# Use applymap to vectorize calculations\n",
    "for col in columns:\n",
    "    df[f'{col}_1km'] = df[f'{col}_1km'].map(lambda x: transform_list(x, 1))\n",
    "    df[f'{col}_5km'] = df[f'{col}_5km'].map(lambda x: transform_list(x, 5))\n",
    "    df[f'{col}_10km'] = df[f'{col}_10km'].map(lambda x: transform_list(x, 10))\n",
    "\n"
   ]
  },
  {
   "cell_type": "code",
   "execution_count": null,
   "id": "ffd6db3c",
   "metadata": {},
   "outputs": [],
   "source": [
    "%%time\n",
    "# Define columns\n",
    "#columns = ['Civic', 'Fire', 'Government', 'Hospital', 'Public', 'School', 'Sports', 'Supermarket', 'Toilet', 'Transport']\n",
    "columns = ['Transport']\n",
    "\n",
    "# Initialize score columns\n",
    "for col in columns:\n",
    "    df[f'{col}_1km_Score'] = None\n",
    "    df[f'{col}_5km_Score'] = None\n",
    "    df[f'{col}_10km_Score'] = None\n",
    "\n",
    "# Define a function to calculate scores\n",
    "def calculate_scores(row, columns):\n",
    "    for col in columns:\n",
    "        row[f'{col}_1km_Score'] = sum(row[f'{col}_1km'])\n",
    "        row[f'{col}_5km_Score'] = sum(row[f'{col}_5km'])\n",
    "        row[f'{col}_10km_Score'] = sum(row[f'{col}_10km'])\n",
    "    return row\n",
    "\n",
    "# Apply the function across the dataframe\n",
    "df = df.apply(lambda row: calculate_scores(row, columns), axis=1)\n"
   ]
  },
  {
   "cell_type": "code",
   "execution_count": null,
   "id": "9b803556",
   "metadata": {},
   "outputs": [],
   "source": [
    "df"
   ]
  },
  {
   "cell_type": "code",
   "execution_count": null,
   "id": "3f330f80",
   "metadata": {},
   "outputs": [],
   "source": [
    "df.columns[72]"
   ]
  },
  {
   "cell_type": "code",
   "execution_count": null,
   "id": "97676b4e",
   "metadata": {},
   "outputs": [],
   "source": [
    "# Vectorized scaling operation\n",
    "df.iloc[:, 69:72] = df.iloc[:, 69:72].apply(lambda col: (col - col.min()) / (col.max() - col.min()) * 10, axis=0)\n"
   ]
  },
  {
   "cell_type": "code",
   "execution_count": null,
   "id": "fd43663f",
   "metadata": {},
   "outputs": [],
   "source": [
    "# Optimized approach\n",
    "try:\n",
    "    df.iloc[:, 69:72] = df.iloc[:, 69:72].astype(float).round(2)\n",
    "except Exception as e:\n",
    "    print('Error:', e)\n"
   ]
  },
  {
   "cell_type": "code",
   "execution_count": null,
   "id": "0f3fcc71",
   "metadata": {},
   "outputs": [],
   "source": [
    "df"
   ]
  },
  {
   "cell_type": "code",
   "execution_count": null,
   "id": "7a89cf74",
   "metadata": {},
   "outputs": [],
   "source": [
    "df.columns"
   ]
  },
  {
   "cell_type": "code",
   "execution_count": null,
   "id": "249e9034",
   "metadata": {},
   "outputs": [],
   "source": []
  },
  {
   "cell_type": "code",
   "execution_count": null,
   "id": "bcc1bebf",
   "metadata": {},
   "outputs": [],
   "source": [
    "df = df[['Building', 'lon', 'lat', 'Civic_1km_Score', 'Civic_5km_Score',\n",
    "       'Civic_10km_Score', 'Fire_1km_Score', 'Fire_5km_Score',\n",
    "       'Fire_10km_Score', 'Government_1km_Score', 'Government_5km_Score',\n",
    "       'Government_10km_Score', 'Hospital_1km_Score', 'Hospital_5km_Score',\n",
    "       'Hospital_10km_Score', 'Public_1km_Score', 'Public_5km_Score',\n",
    "       'Public_10km_Score', 'School_1km_Score', 'School_5km_Score',\n",
    "       'School_10km_Score', 'Sports_1km_Score', 'Sports_5km_Score',\n",
    "       'Sports_10km_Score', 'Supermarket_1km_Score', 'Supermarket_5km_Score',\n",
    "       'Supermarket_10km_Score', 'Toilet_1km_Score', 'Toilet_5km_Score',\n",
    "       'Toilet_10km_Score', 'Transport_1km_Score', 'Transport_5km_Score',\n",
    "       'Transport_10km_Score']]"
   ]
  },
  {
   "cell_type": "code",
   "execution_count": null,
   "id": "961b8bec",
   "metadata": {},
   "outputs": [],
   "source": [
    "df.to_csv('ManilaScoreRAW.csv', index = False)"
   ]
  },
  {
   "cell_type": "code",
   "execution_count": null,
   "id": "30cde742",
   "metadata": {},
   "outputs": [],
   "source": []
  },
  {
   "cell_type": "code",
   "execution_count": null,
   "id": "15188079",
   "metadata": {},
   "outputs": [],
   "source": []
  },
  {
   "cell_type": "code",
   "execution_count": null,
   "id": "4eb2d292",
   "metadata": {},
   "outputs": [],
   "source": [
    "df1 = pd.read_csv('ManilaScoreRAW.csv')"
   ]
  },
  {
   "cell_type": "code",
   "execution_count": null,
   "id": "3c950512",
   "metadata": {},
   "outputs": [],
   "source": [
    "df1['Transport_10km_Score'] = None"
   ]
  },
  {
   "cell_type": "code",
   "execution_count": null,
   "id": "36d03305",
   "metadata": {},
   "outputs": [],
   "source": [
    "df1['Transport_10km_Score'] = df['Transport_10km_Score']"
   ]
  },
  {
   "cell_type": "code",
   "execution_count": null,
   "id": "37a38a24",
   "metadata": {},
   "outputs": [],
   "source": [
    "df1"
   ]
  },
  {
   "cell_type": "code",
   "execution_count": null,
   "id": "a1694a05",
   "metadata": {},
   "outputs": [],
   "source": []
  }
 ],
 "metadata": {
  "kernelspec": {
   "display_name": "Python [conda env:base] *",
   "language": "python",
   "name": "conda-base-py"
  },
  "language_info": {
   "codemirror_mode": {
    "name": "ipython",
    "version": 3
   },
   "file_extension": ".py",
   "mimetype": "text/x-python",
   "name": "python",
   "nbconvert_exporter": "python",
   "pygments_lexer": "ipython3",
   "version": "3.9.21"
  }
 },
 "nbformat": 4,
 "nbformat_minor": 5
}
