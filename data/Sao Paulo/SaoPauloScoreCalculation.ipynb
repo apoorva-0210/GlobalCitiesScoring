{
 "cells": [
  {
   "cell_type": "code",
   "execution_count": 1,
   "id": "f723f60c",
   "metadata": {},
   "outputs": [],
   "source": [
    "import pandas as pd\n",
    "import warnings\n",
    "warnings.filterwarnings('ignore')\n",
    "import numpy as np"
   ]
  },
  {
   "cell_type": "code",
   "execution_count": 2,
   "id": "e80a1ecf",
   "metadata": {},
   "outputs": [],
   "source": [
    "df_building = pd.read_csv('SaoPauloBuildingsFinal.csv')"
   ]
  },
  {
   "cell_type": "code",
   "execution_count": 3,
   "id": "258b068b",
   "metadata": {},
   "outputs": [],
   "source": [
    "df_building.rename(columns={'name' : 'Building'}, inplace = True)"
   ]
  },
  {
   "cell_type": "code",
   "execution_count": 4,
   "id": "413bbad3",
   "metadata": {},
   "outputs": [],
   "source": [
    "df_civic = pd.read_csv('CivicDistance.csv')\n",
    "df_fire = pd.read_csv('FireDistance.csv')\n",
    "df_government = pd.read_csv('GovernmentDistance.csv')\n",
    "df_hospital = pd.read_csv('HospitalDistance.csv')\n",
    "df_public = pd.read_csv('PublicDistance.csv')\n",
    "df_school = pd.read_csv('SchoolDistance.csv')\n",
    "df_sports = pd.read_csv('SportsDistance.csv')\n",
    "df_supermarket = pd.read_csv('SupermarketDistance.csv')\n",
    "df_toilet = pd.read_csv('ToiletDistance.csv')\n",
    "df_transport = pd.read_csv('TransportDistance.csv')"
   ]
  },
  {
   "cell_type": "code",
   "execution_count": 5,
   "id": "60f8409f",
   "metadata": {},
   "outputs": [],
   "source": [
    "df_civic = df_civic.groupby('InputID').agg(lambda x: list(x))\n",
    "df_fire = df_fire.groupby('InputID').agg(lambda x: list(x))\n",
    "df_government = df_government.groupby('InputID').agg(lambda x: list(x))\n",
    "df_hospital = df_hospital.groupby('InputID').agg(lambda x: list(x))\n",
    "df_public = df_public.groupby('InputID').agg(lambda x: list(x))\n",
    "df_school = df_school.groupby('InputID').agg(lambda x: list(x))\n",
    "df_sports = df_sports.groupby('InputID').agg(lambda x: list(x))\n",
    "df_supermarket = df_supermarket.groupby('InputID').agg(lambda x: list(x))\n",
    "df_toilet = df_toilet.groupby('InputID').agg(lambda x: list(x))\n",
    "df_transport = df_transport.groupby('InputID').agg(lambda x: list(x))"
   ]
  },
  {
   "cell_type": "code",
   "execution_count": 6,
   "id": "0cbba8d7",
   "metadata": {},
   "outputs": [],
   "source": [
    "df_civic = df_civic.reset_index()\n",
    "df_fire = df_fire.reset_index()\n",
    "df_government = df_government.reset_index()\n",
    "df_hospital = df_hospital.reset_index()\n",
    "df_public = df_public.reset_index()\n",
    "df_school = df_school.reset_index()\n",
    "df_sports = df_sports.reset_index()\n",
    "df_supermarket = df_supermarket.reset_index()\n",
    "df_toilet = df_toilet.reset_index()\n",
    "df_transport = df_transport.reset_index()"
   ]
  },
  {
   "cell_type": "code",
   "execution_count": 7,
   "id": "9fe84279",
   "metadata": {},
   "outputs": [],
   "source": [
    "df_civic.drop(columns=['TargetID'], inplace = True)\n",
    "df_fire.drop(columns=['TargetID'], inplace = True)\n",
    "df_government.drop(columns=['TargetID'], inplace = True)\n",
    "df_hospital.drop(columns=['TargetID'], inplace = True)\n",
    "df_public.drop(columns=['TargetID'], inplace = True)\n",
    "df_school.drop(columns=['TargetID'], inplace = True)\n",
    "df_sports.drop(columns=['TargetID'], inplace = True)\n",
    "df_supermarket.drop(columns=['TargetID'], inplace = True)\n",
    "df_toilet.drop(columns=['TargetID'], inplace = True)\n",
    "df_transport.drop(columns=['TargetID'], inplace = True)"
   ]
  },
  {
   "cell_type": "code",
   "execution_count": null,
   "id": "47070655",
   "metadata": {},
   "outputs": [],
   "source": [
    "df_civic\n",
    "df_fire\n",
    "df_government\n",
    "df_hospital\n",
    "df_public\n",
    "df_school\n",
    "df_sports\n",
    "df_supermarket\n",
    "df_toilet\n",
    "df_transport"
   ]
  },
  {
   "cell_type": "code",
   "execution_count": 8,
   "id": "7dcf9c20",
   "metadata": {},
   "outputs": [],
   "source": [
    "df_civic.rename(columns={'InputID':'Building', 'Distance':'Civic'}, inplace = True)\n",
    "df_fire.rename(columns={'InputID':'Building', 'Distance':'Fire'}, inplace = True)\n",
    "df_government.rename(columns={'InputID':'Building', 'Distance':'Government'}, inplace = True)\n",
    "df_hospital.rename(columns={'InputID':'Building', 'Distance':'Hospital'}, inplace = True)\n",
    "df_public.rename(columns={'InputID':'Building', 'Distance':'Public'}, inplace = True)\n",
    "df_school.rename(columns={'InputID':'Building', 'Distance':'School'}, inplace = True)\n",
    "df_sports.rename(columns={'InputID':'Building', 'Distance':'Sports'}, inplace = True)\n",
    "df_supermarket.rename(columns={'InputID':'Building', 'Distance':'Supermarket'}, inplace = True)\n",
    "df_toilet.rename(columns={'InputID':'Building', 'Distance':'Toilet'}, inplace = True)\n",
    "df_transport.rename(columns={'InputID':'Building', 'Distance':'Transport'}, inplace = True)"
   ]
  },
  {
   "cell_type": "code",
   "execution_count": 9,
   "id": "ca157b7b",
   "metadata": {},
   "outputs": [],
   "source": [
    "df = df_building.merge(df_civic, on='Building', how = 'inner')\n",
    "df = df.merge(df_fire, on='Building', how = 'inner')\n",
    "df = df.merge(df_government, on='Building', how = 'inner')\n",
    "df = df.merge(df_hospital, on='Building', how = 'inner')\n",
    "df = df.merge(df_public, on='Building', how = 'inner')\n",
    "df = df.merge(df_school, on='Building', how = 'inner')\n",
    "df = df.merge(df_sports, on='Building', how = 'inner')\n",
    "df = df.merge(df_supermarket, on='Building', how = 'inner')\n",
    "df = df.merge(df_toilet, on='Building', how = 'inner')\n",
    "df = df.merge(df_transport, on='Building', how = 'inner')"
   ]
  },
  {
   "cell_type": "code",
   "execution_count": null,
   "id": "899d1670",
   "metadata": {},
   "outputs": [],
   "source": [
    "df"
   ]
  },
  {
   "cell_type": "code",
   "execution_count": null,
   "id": "75b9b3ce",
   "metadata": {},
   "outputs": [],
   "source": [
    "df.columns"
   ]
  },
  {
   "cell_type": "code",
   "execution_count": 10,
   "id": "feeb558b",
   "metadata": {},
   "outputs": [],
   "source": [
    "df[['Civic', 'Fire', 'Government', 'Hospital', 'Public', 'School', 'Sports', 'Supermarket', 'Toilet', 'Transport']] = df[['Civic', 'Fire', 'Government', 'Hospital', 'Public', 'School', 'Sports', 'Supermarket', 'Toilet', 'Transport']].applymap(lambda x: np.divide(x, 10000) if isinstance(x, list) else x)"
   ]
  },
  {
   "cell_type": "code",
   "execution_count": 11,
   "id": "845bb540",
   "metadata": {},
   "outputs": [],
   "source": [
    "#df[['Civic', 'Government']] = df[['Civic', 'Government']].applymap(lambda x: np.divide(x, 10000) if isinstance(x, list) else x)"
   ]
  },
  {
   "cell_type": "code",
   "execution_count": 12,
   "id": "146ba89e-d091-4000-9f6f-001a826c707c",
   "metadata": {},
   "outputs": [],
   "source": [
    "distance_map = {\n",
    "    'Civic': 1.5,\n",
    "    'Fire': 1.0,\n",
    "    'Government': 10.0,\n",
    "    'Hospital': 10.0,\n",
    "    'Public': 2.0,\n",
    "    'School': 1.0,\n",
    "    'Sports': 1.5,\n",
    "    'Supermarket': 1.0,\n",
    "    'Toilet': 0.1,\n",
    "    'Transport': 2.0,\n",
    "}\n",
    "for facility, max_dist in distance_map.items():\n",
    "    try:\n",
    "        df[f'{facility}_nearby'] = df[facility].apply(lambda lst: [d for d in lst if d <= max_dist])\n",
    "    except:\n",
    "        pass\n",
    "\n",
    "\n",
    "for facility, max_dist in distance_map.items():\n",
    "    try:\n",
    "        df[f'{facility}_nearby'] = df[f'{facility}_nearby'].apply(lambda lst: [round(max_dist - d, 2) for d in lst])\n",
    "    except:\n",
    "        pass\n",
    "\n",
    "\n",
    "for facility in distance_map:\n",
    "    try:\n",
    "        df[f'{facility}_Score'] = df[f'{facility}_nearby'].apply(sum)\n",
    "    except:\n",
    "        pass\n",
    "\n",
    "from sklearn.preprocessing import MinMaxScaler\n",
    "\n",
    "# Select score columns\n",
    "score_cols = [col for col in df.columns if col.endswith('_Score')]\n",
    "\n",
    "# Initialize scaler with feature range 0-10\n",
    "scaler = MinMaxScaler(feature_range=(0, 10))\n",
    "\n",
    "# Fit and transform, then round to 2 decimals\n",
    "df[score_cols] = pd.DataFrame(\n",
    "    scaler.fit_transform(df[score_cols]),\n",
    "    columns=score_cols,\n",
    "    index=df.index\n",
    ").round(2)\n"
   ]
  },
  {
   "cell_type": "code",
   "execution_count": 13,
   "id": "fb2f00eb-75b2-4b43-be1e-85571be3ff5e",
   "metadata": {},
   "outputs": [
    {
     "data": {
      "text/plain": [
       "Index(['Building', 'name_en', 'building', 'building_l', 'building_m',\n",
       "       'addr_full', 'addr_house', 'addr_stree', 'addr_city', 'office',\n",
       "       'source', 'name_pt', 'osm_id', 'osm_type', 'lon', 'lat', 'shapeName',\n",
       "       'shapeISO', 'shapeID', 'shapeGroup', 'shapeType', 'Civic', 'Fire',\n",
       "       'Government', 'Hospital', 'Public', 'School', 'Sports', 'Supermarket',\n",
       "       'Toilet', 'Transport', 'Civic_nearby', 'Fire_nearby',\n",
       "       'Government_nearby', 'Hospital_nearby', 'Public_nearby',\n",
       "       'School_nearby', 'Sports_nearby', 'Supermarket_nearby', 'Toilet_nearby',\n",
       "       'Transport_nearby', 'Civic_Score', 'Fire_Score', 'Government_Score',\n",
       "       'Hospital_Score', 'Public_Score', 'School_Score', 'Sports_Score',\n",
       "       'Supermarket_Score', 'Toilet_Score', 'Transport_Score'],\n",
       "      dtype='object')"
      ]
     },
     "execution_count": 13,
     "metadata": {},
     "output_type": "execute_result"
    }
   ],
   "source": [
    "df.columns"
   ]
  },
  {
   "cell_type": "code",
   "execution_count": 14,
   "id": "59aab8f8-d0c5-453e-96ad-75155956a081",
   "metadata": {},
   "outputs": [],
   "source": [
    "df = df[['Building','lon', 'lat', 'Civic_Score', 'Fire_Score', 'Government_Score',\n",
    "       'Hospital_Score', 'Public_Score', 'School_Score', 'Sports_Score',\n",
    "       'Supermarket_Score', 'Toilet_Score', 'Transport_Score']]"
   ]
  },
  {
   "cell_type": "code",
   "execution_count": 15,
   "id": "0bd909f2-ca59-4628-8170-9df5a96d1b07",
   "metadata": {},
   "outputs": [],
   "source": [
    "df.to_csv('SaoPauloScoreRAW1.csv', index = False)"
   ]
  },
  {
   "cell_type": "code",
   "execution_count": null,
   "id": "4077cbd0-ba3d-480c-8083-643157d410dc",
   "metadata": {},
   "outputs": [],
   "source": []
  },
  {
   "cell_type": "code",
   "execution_count": null,
   "id": "22ae4387-c81a-4dd3-9682-b0fe5f27cbf5",
   "metadata": {},
   "outputs": [],
   "source": []
  },
  {
   "cell_type": "code",
   "execution_count": null,
   "id": "e7f42a35-d8ad-4185-9af2-1b4436816071",
   "metadata": {},
   "outputs": [],
   "source": []
  },
  {
   "cell_type": "code",
   "execution_count": null,
   "id": "39468a21-0758-417c-b3c0-1a4749d206c9",
   "metadata": {},
   "outputs": [],
   "source": []
  },
  {
   "cell_type": "code",
   "execution_count": null,
   "id": "0edac969-5ca9-42a6-b2cb-eb18d5a4a375",
   "metadata": {},
   "outputs": [],
   "source": []
  },
  {
   "cell_type": "code",
   "execution_count": null,
   "id": "3ecc9331-6e33-40ea-9d96-5903c7eda46a",
   "metadata": {},
   "outputs": [],
   "source": []
  },
  {
   "cell_type": "code",
   "execution_count": null,
   "id": "c47d5c1b-73d0-48a2-9487-1e849491d706",
   "metadata": {},
   "outputs": [],
   "source": []
  },
  {
   "cell_type": "code",
   "execution_count": null,
   "id": "fa01abcf-701d-480a-ab6f-39b94d0fd0eb",
   "metadata": {},
   "outputs": [],
   "source": []
  },
  {
   "cell_type": "code",
   "execution_count": null,
   "id": "c2debed6-129f-4557-be2f-907a92169c85",
   "metadata": {},
   "outputs": [],
   "source": []
  },
  {
   "cell_type": "code",
   "execution_count": null,
   "id": "3b236537-b3e0-404d-bad9-97ac10f5d748",
   "metadata": {},
   "outputs": [],
   "source": []
  },
  {
   "cell_type": "code",
   "execution_count": null,
   "id": "1a308ff6-2b64-4586-aa8d-c035070b7396",
   "metadata": {},
   "outputs": [],
   "source": []
  },
  {
   "cell_type": "code",
   "execution_count": null,
   "id": "8c48ee53-7e8a-44f1-82ac-9407ba412ebc",
   "metadata": {},
   "outputs": [],
   "source": []
  },
  {
   "cell_type": "code",
   "execution_count": null,
   "id": "b534c6c1-dd3a-4140-9b07-e82db47cd427",
   "metadata": {},
   "outputs": [],
   "source": []
  },
  {
   "cell_type": "code",
   "execution_count": null,
   "id": "4f24f4d5-25db-45e8-ac07-edf869f82d02",
   "metadata": {},
   "outputs": [],
   "source": []
  },
  {
   "cell_type": "code",
   "execution_count": null,
   "id": "7e4e1e18-a649-46aa-acf9-9f9fd4a00d9c",
   "metadata": {},
   "outputs": [],
   "source": []
  },
  {
   "cell_type": "code",
   "execution_count": null,
   "id": "e646492e-8d73-4f94-9c61-ef9db49c4d6a",
   "metadata": {},
   "outputs": [],
   "source": []
  },
  {
   "cell_type": "code",
   "execution_count": null,
   "id": "b348122f",
   "metadata": {},
   "outputs": [],
   "source": [
    "%%time\n",
    "columns = ['Civic', 'Fire', 'Government', 'Hospital', 'Public', \n",
    "           'School', 'Sports', 'Supermarket', 'Toilet', 'Transport']\n",
    "\n",
    "for col in columns:\n",
    "    df[f'{col}_1km'] = None\n",
    "    df[f'{col}_5km'] = None\n",
    "    df[f'{col}_10km'] = None\n"
   ]
  },
  {
   "cell_type": "code",
   "execution_count": null,
   "id": "6d23def1",
   "metadata": {},
   "outputs": [],
   "source": [
    "%%time\n",
    "# Define columns\n",
    "columns = ['Civic', 'Fire', 'Government', 'Hospital', 'Public', \n",
    "           'School', 'Sports', 'Supermarket', 'Toilet', 'Transport']\n",
    "\n",
    "# Define a function to filter numbers based on distance\n",
    "def filter_distances(row, columns):\n",
    "    for col in columns:\n",
    "        row[f'{col}_1km'] = [number for number in row[col] if number <= 1]\n",
    "        row[f'{col}_5km'] = [number for number in row[col] if number <= 5]\n",
    "        row[f'{col}_10km'] = [number for number in row[col] if number <= 10]\n",
    "    return row\n",
    "\n",
    "# Apply the function across the dataframe\n",
    "df = df.apply(lambda row: filter_distances(row, columns), axis=1)\n"
   ]
  },
  {
   "cell_type": "code",
   "execution_count": null,
   "id": "1fce5f60",
   "metadata": {},
   "outputs": [],
   "source": [
    "df"
   ]
  },
  {
   "cell_type": "code",
   "execution_count": null,
   "id": "ae8260be",
   "metadata": {},
   "outputs": [],
   "source": [
    "%%time\n",
    "# Define columns\n",
    "columns = ['Civic', 'Fire', 'Government', 'Hospital', 'Public', \n",
    "           'School', 'Sports', 'Supermarket', 'Toilet', 'Transport']\n",
    "\n",
    "# Define a function to apply element-wise\n",
    "def transform_list(lst, val):\n",
    "    return [round(val - x, 2) for x in lst]\n",
    "\n",
    "# Use applymap to vectorize calculations\n",
    "for col in columns:\n",
    "    df[f'{col}_1km'] = df[f'{col}_1km'].map(lambda x: transform_list(x, 1))\n",
    "    df[f'{col}_5km'] = df[f'{col}_5km'].map(lambda x: transform_list(x, 5))\n",
    "    df[f'{col}_10km'] = df[f'{col}_10km'].map(lambda x: transform_list(x, 10))\n",
    "\n"
   ]
  },
  {
   "cell_type": "code",
   "execution_count": null,
   "id": "ffd6db3c",
   "metadata": {},
   "outputs": [],
   "source": [
    "%%time\n",
    "# Define columns\n",
    "columns = ['Civic', 'Fire', 'Government', 'Hospital', 'Public', \n",
    "           'School', 'Sports', 'Supermarket', 'Toilet', 'Transport']\n",
    "\n",
    "# Initialize score columns\n",
    "for col in columns:\n",
    "    df[f'{col}_1km_Score'] = None\n",
    "    df[f'{col}_5km_Score'] = None\n",
    "    df[f'{col}_10km_Score'] = None\n",
    "\n",
    "# Define a function to calculate scores\n",
    "def calculate_scores(row, columns):\n",
    "    for col in columns:\n",
    "        row[f'{col}_1km_Score'] = sum(row[f'{col}_1km'])\n",
    "        row[f'{col}_5km_Score'] = sum(row[f'{col}_5km'])\n",
    "        row[f'{col}_10km_Score'] = sum(row[f'{col}_10km'])\n",
    "    return row\n",
    "\n",
    "# Apply the function across the dataframe\n",
    "df = df.apply(lambda row: calculate_scores(row, columns), axis=1)\n"
   ]
  },
  {
   "cell_type": "code",
   "execution_count": null,
   "id": "9b803556",
   "metadata": {},
   "outputs": [],
   "source": [
    "df"
   ]
  },
  {
   "cell_type": "code",
   "execution_count": null,
   "id": "3f330f80",
   "metadata": {},
   "outputs": [],
   "source": [
    "df.columns[91]"
   ]
  },
  {
   "cell_type": "code",
   "execution_count": null,
   "id": "97676b4e",
   "metadata": {},
   "outputs": [],
   "source": [
    "# Vectorized scaling operation\n",
    "df.iloc[:, 61:91] = df.iloc[:, 61:91].apply(lambda col: (col - col.min()) / (col.max() - col.min()) * 10, axis=0)\n"
   ]
  },
  {
   "cell_type": "code",
   "execution_count": null,
   "id": "fd43663f",
   "metadata": {},
   "outputs": [],
   "source": [
    "# Optimized approach\n",
    "try:\n",
    "    df.iloc[:, 61:91] = df.iloc[:, 61:91].astype(float).round(2)\n",
    "except Exception as e:\n",
    "    print('Error:', e)\n"
   ]
  },
  {
   "cell_type": "code",
   "execution_count": null,
   "id": "0f3fcc71",
   "metadata": {},
   "outputs": [],
   "source": [
    "df"
   ]
  },
  {
   "cell_type": "code",
   "execution_count": null,
   "id": "961b8bec",
   "metadata": {},
   "outputs": [],
   "source": [
    "df.to_csv('SaoPauloScoreRAW.csv', index = False)"
   ]
  },
  {
   "cell_type": "code",
   "execution_count": null,
   "id": "f790fcc8",
   "metadata": {},
   "outputs": [],
   "source": []
  }
 ],
 "metadata": {
  "kernelspec": {
   "display_name": "Python [conda env:base] *",
   "language": "python",
   "name": "conda-base-py"
  },
  "language_info": {
   "codemirror_mode": {
    "name": "ipython",
    "version": 3
   },
   "file_extension": ".py",
   "mimetype": "text/x-python",
   "name": "python",
   "nbconvert_exporter": "python",
   "pygments_lexer": "ipython3",
   "version": "3.9.21"
  }
 },
 "nbformat": 4,
 "nbformat_minor": 5
}
